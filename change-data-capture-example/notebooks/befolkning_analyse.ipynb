{
 "cells": [
  {
   "cell_type": "code",
   "execution_count": 0,
   "metadata": {
    "application/vnd.databricks.v1+cell": {
     "cellMetadata": {
      "byteLimit": 2048000,
      "rowLimit": 10000
     },
     "inputWidgets": {},
     "nuid": "0e2cd2c1-7a51-43dc-a772-9ba8bd68b23a",
     "showTitle": false,
     "tableResultSettingsMap": {
      "0": {
       "dataGridStateBlob": "{\"version\":1,\"tableState\":{\"columnPinning\":{\"left\":[\"#row_number#\"],\"right\":[]},\"columnSizing\":{},\"columnVisibility\":{}},\"settings\":{\"columns\":{}},\"syncTimestamp\":1753276131366}",
       "filterBlob": null,
       "queryPlanFiltersBlob": null,
       "tableResultIndex": 0
      }
     },
     "title": ""
    }
   },
   "outputs": [
    {
     "output_type": "stream",
     "name": "stdout",
     "output_type": "stream",
     "text": [
      "Requirement already satisfied: openpyxl in /local_disk0/.ephemeral_nfs/envs/pythonEnv-9e646bb9-d779-461c-b222-23a569b44a2d/lib/python3.11/site-packages (3.1.5)\nRequirement already satisfied: et-xmlfile in /local_disk0/.ephemeral_nfs/envs/pythonEnv-9e646bb9-d779-461c-b222-23a569b44a2d/lib/python3.11/site-packages (from openpyxl) (2.0.0)\n\u001B[43mNote: you may need to restart the kernel using %restart_python or dbutils.library.restartPython() to use updated packages.\u001B[0m\n"
     ]
    },
    {
     "output_type": "display_data",
     "data": {
      "text/html": [
       "<style scoped>\n",
       "  .table-result-container {\n",
       "    max-height: 300px;\n",
       "    overflow: auto;\n",
       "  }\n",
       "  table, th, td {\n",
       "    border: 1px solid black;\n",
       "    border-collapse: collapse;\n",
       "  }\n",
       "  th, td {\n",
       "    padding: 5px;\n",
       "  }\n",
       "  th {\n",
       "    text-align: left;\n",
       "  }\n",
       "</style><div class='table-result-container'><table class='table-result'><thead style='background-color: white'><tr><th>Kommune</th><th>Kjønn</th><th>Alder</th><th>2022</th><th>2023</th><th>2024</th><th>2025</th></tr></thead><tbody><tr><td>K-3116 Skiptvet</td><td>Kvinner</td><td>0 år</td><td>8.0</td><td>17.0</td><td>11.0</td><td>14.0</td></tr><tr><td>K-3118 Indre Østfold</td><td>Kvinner</td><td>0 år</td><td>195.0</td><td>199.0</td><td>205.0</td><td>211.0</td></tr><tr><td>K-3120 Rakkestad</td><td>Kvinner</td><td>0 år</td><td>39.0</td><td>32.0</td><td>35.0</td><td>53.0</td></tr><tr><td>K-3122 Marker</td><td>Kvinner</td><td>0 år</td><td>12.0</td><td>19.0</td><td>16.0</td><td>11.0</td></tr><tr><td>K-3124 Aremark</td><td>Kvinner</td><td>0 år</td><td>9.0</td><td>4.0</td><td>9.0</td><td>6.0</td></tr><tr><td>K-3201 Bærum</td><td>Kvinner</td><td>0 år</td><td>668.0</td><td>581.0</td><td>607.0</td><td>659.0</td></tr><tr><td>K-3203 Asker</td><td>Kvinner</td><td>0 år</td><td>472.0</td><td>430.0</td><td>413.0</td><td>431.0</td></tr><tr><td>K-3205 Lillestrøm</td><td>Kvinner</td><td>0 år</td><td>464.0</td><td>438.0</td><td>443.0</td><td>478.0</td></tr><tr><td>K-3207 Nordre Follo</td><td>Kvinner</td><td>0 år</td><td>315.0</td><td>311.0</td><td>276.0</td><td>324.0</td></tr><tr><td>K-3209 Ullensaker</td><td>Kvinner</td><td>0 år</td><td>225.0</td><td>219.0</td><td>210.0</td><td>218.0</td></tr><tr><td>K-3212 Nesodden</td><td>Kvinner</td><td>0 år</td><td>93.0</td><td>89.0</td><td>73.0</td><td>98.0</td></tr><tr><td>K-3214 Frogn</td><td>Kvinner</td><td>0 år</td><td>57.0</td><td>42.0</td><td>56.0</td><td>57.0</td></tr><tr><td>K-3216 Vestby</td><td>Kvinner</td><td>0 år</td><td>94.0</td><td>105.0</td><td>83.0</td><td>91.0</td></tr><tr><td>K-3218 Ås</td><td>Kvinner</td><td>0 år</td><td>107.0</td><td>102.0</td><td>90.0</td><td>109.0</td></tr><tr><td>K-3220 Enebakk</td><td>Kvinner</td><td>0 år</td><td>55.0</td><td>42.0</td><td>51.0</td><td>51.0</td></tr><tr><td>K-3222 Lørenskog</td><td>Kvinner</td><td>0 år</td><td>286.0</td><td>263.0</td><td>256.0</td><td>302.0</td></tr><tr><td>K-3224 Rælingen</td><td>Kvinner</td><td>0 år</td><td>110.0</td><td>104.0</td><td>103.0</td><td>120.0</td></tr><tr><td>K-3226 Aurskog-Høland</td><td>Kvinner</td><td>0 år</td><td>70.0</td><td>70.0</td><td>59.0</td><td>82.0</td></tr><tr><td>K-3228 Nes</td><td>Kvinner</td><td>0 år</td><td>108.0</td><td>109.0</td><td>111.0</td><td>123.0</td></tr><tr><td>K-3230 Gjerdrum</td><td>Kvinner</td><td>0 år</td><td>25.0</td><td>35.0</td><td>31.0</td><td>30.0</td></tr><tr><td>K-3232 Nittedal</td><td>Kvinner</td><td>0 år</td><td>130.0</td><td>104.0</td><td>110.0</td><td>121.0</td></tr><tr><td>K-3234 Lunner</td><td>Kvinner</td><td>0 år</td><td>39.0</td><td>41.0</td><td>38.0</td><td>35.0</td></tr><tr><td>K-3236 Jevnaker</td><td>Kvinner</td><td>0 år</td><td>24.0</td><td>35.0</td><td>21.0</td><td>38.0</td></tr><tr><td>K-3238 Nannestad</td><td>Kvinner</td><td>0 år</td><td>94.0</td><td>76.0</td><td>105.0</td><td>89.0</td></tr><tr><td>K-3240 Eidsvoll</td><td>Kvinner</td><td>0 år</td><td>141.0</td><td>134.0</td><td>146.0</td><td>135.0</td></tr><tr><td>K-3242 Hurdal</td><td>Kvinner</td><td>0 år</td><td>21.0</td><td>7.0</td><td>12.0</td><td>14.0</td></tr><tr><td>K-0301 Oslo</td><td>Kvinner</td><td>0 år</td><td>4557.0</td><td>3948.0</td><td>4114.0</td><td>4359.0</td></tr><tr><td>K-3301 Drammen</td><td>Kvinner</td><td>0 år</td><td>496.0</td><td>447.0</td><td>491.0</td><td>486.0</td></tr><tr><td>K-3303 Kongsberg</td><td>Kvinner</td><td>0 år</td><td>106.0</td><td>95.0</td><td>112.0</td><td>104.0</td></tr><tr><td>K-3305 Ringerike</td><td>Kvinner</td><td>0 år</td><td>128.0</td><td>137.0</td><td>125.0</td><td>135.0</td></tr><tr><td>K-3310 Hole</td><td>Kvinner</td><td>0 år</td><td>29.0</td><td>36.0</td><td>23.0</td><td>26.0</td></tr><tr><td>K-3312 Lier</td><td>Kvinner</td><td>0 år</td><td>138.0</td><td>125.0</td><td>128.0</td><td>120.0</td></tr><tr><td>K-3314 Øvre Eiker</td><td>Kvinner</td><td>0 år</td><td>106.0</td><td>98.0</td><td>97.0</td><td>102.0</td></tr><tr><td>K-3316 Modum</td><td>Kvinner</td><td>0 år</td><td>51.0</td><td>64.0</td><td>68.0</td><td>65.0</td></tr><tr><td>K-3318 Krødsherad</td><td>Kvinner</td><td>0 år</td><td>4.0</td><td>7.0</td><td>7.0</td><td>4.0</td></tr><tr><td>K-3320 Flå</td><td>Kvinner</td><td>0 år</td><td>9.0</td><td>3.0</td><td>4.0</td><td>2.0</td></tr><tr><td>K-3322 Nesbyen</td><td>Kvinner</td><td>0 år</td><td>20.0</td><td>13.0</td><td>13.0</td><td>12.0</td></tr><tr><td>K-3324 Gol</td><td>Kvinner</td><td>0 år</td><td>17.0</td><td>22.0</td><td>20.0</td><td>18.0</td></tr><tr><td>K-3326 Hemsedal</td><td>Kvinner</td><td>0 år</td><td>13.0</td><td>16.0</td><td>12.0</td><td>8.0</td></tr><tr><td>K-3328 Ål</td><td>Kvinner</td><td>0 år</td><td>17.0</td><td>20.0</td><td>24.0</td><td>14.0</td></tr><tr><td>K-3330 Hol</td><td>Kvinner</td><td>0 år</td><td>20.0</td><td>12.0</td><td>17.0</td><td>17.0</td></tr><tr><td>K-3332 Sigdal</td><td>Kvinner</td><td>0 år</td><td>9.0</td><td>6.0</td><td>12.0</td><td>12.0</td></tr><tr><td>K-3334 Flesberg</td><td>Kvinner</td><td>0 år</td><td>16.0</td><td>11.0</td><td>14.0</td><td>13.0</td></tr><tr><td>K-3336 Rollag</td><td>Kvinner</td><td>0 år</td><td>4.0</td><td>3.0</td><td>7.0</td><td>2.0</td></tr><tr><td>K-3338 Nore og Uvdal</td><td>Kvinner</td><td>0 år</td><td>12.0</td><td>4.0</td><td>12.0</td><td>9.0</td></tr><tr><td>K-3401 Kongsvinger</td><td>Kvinner</td><td>0 år</td><td>55.0</td><td>74.0</td><td>62.0</td><td>64.0</td></tr><tr><td>K-3403 Hamar</td><td>Kvinner</td><td>0 år</td><td>159.0</td><td>134.0</td><td>136.0</td><td>113.0</td></tr><tr><td>K-3405 Lillehammer</td><td>Kvinner</td><td>0 år</td><td>114.0</td><td>119.0</td><td>103.0</td><td>130.0</td></tr><tr><td>K-3407 Gjøvik</td><td>Kvinner</td><td>0 år</td><td>116.0</td><td>120.0</td><td>115.0</td><td>123.0</td></tr><tr><td>K-3411 Ringsaker</td><td>Kvinner</td><td>0 år</td><td>148.0</td><td>146.0</td><td>155.0</td><td>142.0</td></tr><tr><td>K-3412 Løten</td><td>Kvinner</td><td>0 år</td><td>37.0</td><td>35.0</td><td>37.0</td><td>31.0</td></tr><tr><td>K-3413 Stange</td><td>Kvinner</td><td>0 år</td><td>103.0</td><td>95.0</td><td>108.0</td><td>94.0</td></tr><tr><td>K-3414 Nord-Odal</td><td>Kvinner</td><td>0 år</td><td>13.0</td><td>15.0</td><td>18.0</td><td>20.0</td></tr><tr><td>K-3415 Sør-Odal</td><td>Kvinner</td><td>0 år</td><td>49.0</td><td>29.0</td><td>29.0</td><td>33.0</td></tr><tr><td>K-3416 Eidskog</td><td>Kvinner</td><td>0 år</td><td>29.0</td><td>17.0</td><td>17.0</td><td>27.0</td></tr><tr><td>K-3417 Grue</td><td>Kvinner</td><td>0 år</td><td>21.0</td><td>11.0</td><td>8.0</td><td>18.0</td></tr><tr><td>K-3418 Åsnes</td><td>Kvinner</td><td>0 år</td><td>26.0</td><td>17.0</td><td>21.0</td><td>19.0</td></tr><tr><td>K-3419 Våler (Innlandet)</td><td>Kvinner</td><td>0 år</td><td>11.0</td><td>12.0</td><td>18.0</td><td>9.0</td></tr><tr><td>K-3420 Elverum</td><td>Kvinner</td><td>0 år</td><td>94.0</td><td>91.0</td><td>85.0</td><td>91.0</td></tr><tr><td>K-3421 Trysil</td><td>Kvinner</td><td>0 år</td><td>20.0</td><td>31.0</td><td>19.0</td><td>23.0</td></tr><tr><td>K-3422 Åmot</td><td>Kvinner</td><td>0 år</td><td>13.0</td><td>16.0</td><td>11.0</td><td>18.0</td></tr><tr><td>K-3423 Stor-Elvdal</td><td>Kvinner</td><td>0 år</td><td>5.0</td><td>4.0</td><td>10.0</td><td>6.0</td></tr><tr><td>K-3424 Rendalen</td><td>Kvinner</td><td>0 år</td><td>5.0</td><td>4.0</td><td>3.0</td><td>8.0</td></tr><tr><td>K-3425 Engerdal</td><td>Kvinner</td><td>0 år</td><td>2.0</td><td>3.0</td><td>4.0</td><td>1.0</td></tr><tr><td>K-3426 Tolga</td><td>Kvinner</td><td>0 år</td><td>6.0</td><td>4.0</td><td>13.0</td><td>4.0</td></tr><tr><td>K-3427 Tynset</td><td>Kvinner</td><td>0 år</td><td>25.0</td><td>27.0</td><td>32.0</td><td>28.0</td></tr><tr><td>K-3428 Alvdal</td><td>Kvinner</td><td>0 år</td><td>9.0</td><td>10.0</td><td>8.0</td><td>15.0</td></tr><tr><td>K-3429 Folldal</td><td>Kvinner</td><td>0 år</td><td>7.0</td><td>8.0</td><td>9.0</td><td>2.0</td></tr><tr><td>K-3430 Os</td><td>Kvinner</td><td>0 år</td><td>14.0</td><td>6.0</td><td>11.0</td><td>8.0</td></tr><tr><td>K-3431 Dovre</td><td>Kvinner</td><td>0 år</td><td>12.0</td><td>7.0</td><td>13.0</td><td>2.0</td></tr><tr><td>K-3432 Lesja</td><td>Kvinner</td><td>0 år</td><td>7.0</td><td>5.0</td><td>3.0</td><td>10.0</td></tr><tr><td>K-3433 Skjåk</td><td>Kvinner</td><td>0 år</td><td>8.0</td><td>10.0</td><td>6.0</td><td>14.0</td></tr><tr><td>K-3434 Lom</td><td>Kvinner</td><td>0 år</td><td>11.0</td><td>8.0</td><td>9.0</td><td>9.0</td></tr><tr><td>K-3435 Vågå</td><td>Kvinner</td><td>0 år</td><td>15.0</td><td>10.0</td><td>15.0</td><td>13.0</td></tr><tr><td>K-3436 Nord-Fron</td><td>Kvinner</td><td>0 år</td><td>22.0</td><td>11.0</td><td>19.0</td><td>13.0</td></tr><tr><td>K-3437 Sel</td><td>Kvinner</td><td>0 år</td><td>15.0</td><td>19.0</td><td>18.0</td><td>27.0</td></tr><tr><td>K-3438 Sør-Fron</td><td>Kvinner</td><td>0 år</td><td>15.0</td><td>7.0</td><td>6.0</td><td>15.0</td></tr><tr><td>K-3439 Ringebu</td><td>Kvinner</td><td>0 år</td><td>26.0</td><td>22.0</td><td>19.0</td><td>17.0</td></tr><tr><td>K-3440 Øyer</td><td>Kvinner</td><td>0 år</td><td>22.0</td><td>29.0</td><td>19.0</td><td>18.0</td></tr><tr><td>K-3441 Gausdal</td><td>Kvinner</td><td>0 år</td><td>18.0</td><td>33.0</td><td>28.0</td><td>34.0</td></tr><tr><td>K-3442 Østre Toten</td><td>Kvinner</td><td>0 år</td><td>56.0</td><td>60.0</td><td>68.0</td><td>41.0</td></tr><tr><td>K-3443 Vestre Toten</td><td>Kvinner</td><td>0 år</td><td>49.0</td><td>60.0</td><td>52.0</td><td>50.0</td></tr><tr><td>K-3446 Gran</td><td>Kvinner</td><td>0 år</td><td>51.0</td><td>43.0</td><td>42.0</td><td>52.0</td></tr><tr><td>K-3447 Søndre Land</td><td>Kvinner</td><td>0 år</td><td>18.0</td><td>25.0</td><td>29.0</td><td>16.0</td></tr><tr><td>K-3448 Nordre Land</td><td>Kvinner</td><td>0 år</td><td>28.0</td><td>19.0</td><td>24.0</td><td>20.0</td></tr><tr><td>K-3449 Sør-Aurdal</td><td>Kvinner</td><td>0 år</td><td>8.0</td><td>12.0</td><td>7.0</td><td>13.0</td></tr><tr><td>K-3450 Etnedal</td><td>Kvinner</td><td>0 år</td><td>6.0</td><td>4.0</td><td>6.0</td><td>2.0</td></tr><tr><td>K-3451 Nord-Aurdal</td><td>Kvinner</td><td>0 år</td><td>23.0</td><td>33.0</td><td>23.0</td><td>33.0</td></tr><tr><td>K-3452 Vestre Slidre</td><td>Kvinner</td><td>0 år</td><td>7.0</td><td>7.0</td><td>13.0</td><td>13.0</td></tr><tr><td>K-3453 Øystre Slidre</td><td>Kvinner</td><td>0 år</td><td>9.0</td><td>16.0</td><td>8.0</td><td>13.0</td></tr><tr><td>K-3454 Vang</td><td>Kvinner</td><td>0 år</td><td>5.0</td><td>8.0</td><td>5.0</td><td>5.0</td></tr><tr><td>K-3901 Horten</td><td>Kvinner</td><td>0 år</td><td>118.0</td><td>97.0</td><td>105.0</td><td>99.0</td></tr><tr><td>K-3903 Holmestrand</td><td>Kvinner</td><td>0 år</td><td>102.0</td><td>119.0</td><td>134.0</td><td>119.0</td></tr><tr><td>K-3905 Tønsberg</td><td>Kvinner</td><td>0 år</td><td>272.0</td><td>240.0</td><td>238.0</td><td>256.0</td></tr><tr><td>K-3907 Sandefjord</td><td>Kvinner</td><td>0 år</td><td>274.0</td><td>262.0</td><td>286.0</td><td>250.0</td></tr><tr><td>K-3909 Larvik</td><td>Kvinner</td><td>0 år</td><td>194.0</td><td>192.0</td><td>181.0</td><td>185.0</td></tr><tr><td>K-3911 Færder</td><td>Kvinner</td><td>0 år</td><td>107.0</td><td>100.0</td><td>92.0</td><td>108.0</td></tr><tr><td>K-4001 Porsgrunn</td><td>Kvinner</td><td>0 år</td><td>121.0</td><td>132.0</td><td>156.0</td><td>141.0</td></tr><tr><td>K-4003 Skien</td><td>Kvinner</td><td>0 år</td><td>260.0</td><td>228.0</td><td>239.0</td><td>237.0</td></tr><tr><td>K-4005 Notodden</td><td>Kvinner</td><td>0 år</td><td>53.0</td><td>53.0</td><td>51.0</td><td>61.0</td></tr><tr><td>K-4010 Siljan</td><td>Kvinner</td><td>0 år</td><td>9.0</td><td>13.0</td><td>11.0</td><td>17.0</td></tr><tr><td>K-4012 Bamble</td><td>Kvinner</td><td>0 år</td><td>57.0</td><td>57.0</td><td>54.0</td><td>57.0</td></tr><tr><td>K-4014 Kragerø</td><td>Kvinner</td><td>0 år</td><td>31.0</td><td>36.0</td><td>41.0</td><td>42.0</td></tr><tr><td>K-4016 Drangedal</td><td>Kvinner</td><td>0 år</td><td>14.0</td><td>23.0</td><td>20.0</td><td>13.0</td></tr><tr><td>K-4018 Nome</td><td>Kvinner</td><td>0 år</td><td>21.0</td><td>19.0</td><td>20.0</td><td>23.0</td></tr><tr><td>K-4020 Midt-Telemark</td><td>Kvinner</td><td>0 år</td><td>40.0</td><td>41.0</td><td>50.0</td><td>48.0</td></tr><tr><td>K-4022 Seljord</td><td>Kvinner</td><td>0 år</td><td>8.0</td><td>11.0</td><td>12.0</td><td>11.0</td></tr><tr><td>K-4024 Hjartdal</td><td>Kvinner</td><td>0 år</td><td>5.0</td><td>11.0</td><td>3.0</td><td>9.0</td></tr><tr><td>K-4026 Tinn</td><td>Kvinner</td><td>0 år</td><td>20.0</td><td>13.0</td><td>15.0</td><td>11.0</td></tr><tr><td>K-4028 Kviteseid</td><td>Kvinner</td><td>0 år</td><td>9.0</td><td>4.0</td><td>9.0</td><td>13.0</td></tr><tr><td>K-4030 Nissedal</td><td>Kvinner</td><td>0 år</td><td>4.0</td><td>5.0</td><td>6.0</td><td>8.0</td></tr><tr><td>K-4032 Fyresdal</td><td>Kvinner</td><td>0 år</td><td>4.0</td><td>5.0</td><td>1.0</td><td>5.0</td></tr><tr><td>K-4034 Tokke</td><td>Kvinner</td><td>0 år</td><td>9.0</td><td>6.0</td><td>15.0</td><td>7.0</td></tr><tr><td>K-4036 Vinje</td><td>Kvinner</td><td>0 år</td><td>16.0</td><td>12.0</td><td>17.0</td><td>15.0</td></tr><tr><td>K-4201 Risør</td><td>Kvinner</td><td>0 år</td><td>23.0</td><td>27.0</td><td>20.0</td><td>19.0</td></tr><tr><td>K-4202 Grimstad</td><td>Kvinner</td><td>0 år</td><td>113.0</td><td>135.0</td><td>127.0</td><td>129.0</td></tr><tr><td>K-4203 Arendal</td><td>Kvinner</td><td>0 år</td><td>182.0</td><td>198.0</td><td>178.0</td><td>183.0</td></tr><tr><td>K-4204 Kristiansand</td><td>Kvinner</td><td>0 år</td><td>603.0</td><td>546.0</td><td>555.0</td><td>573.0</td></tr><tr><td>K-4205 Lindesnes</td><td>Kvinner</td><td>0 år</td><td>106.0</td><td>96.0</td><td>92.0</td><td>115.0</td></tr><tr><td>K-4206 Farsund</td><td>Kvinner</td><td>0 år</td><td>47.0</td><td>39.0</td><td>41.0</td><td>47.0</td></tr><tr><td>K-4207 Flekkefjord</td><td>Kvinner</td><td>0 år</td><td>49.0</td><td>45.0</td><td>46.0</td><td>52.0</td></tr><tr><td>K-4211 Gjerstad</td><td>Kvinner</td><td>0 år</td><td>10.0</td><td>9.0</td><td>4.0</td><td>11.0</td></tr><tr><td>K-4212 Vegårshei</td><td>Kvinner</td><td>0 år</td><td>13.0</td><td>8.0</td><td>9.0</td><td>8.0</td></tr><tr><td>K-4213 Tvedestrand</td><td>Kvinner</td><td>0 år</td><td>32.0</td><td>19.0</td><td>22.0</td><td>23.0</td></tr><tr><td>K-4214 Froland</td><td>Kvinner</td><td>0 år</td><td>25.0</td><td>33.0</td><td>27.0</td><td>25.0</td></tr><tr><td>K-4215 Lillesand</td><td>Kvinner</td><td>0 år</td><td>47.0</td><td>58.0</td><td>50.0</td><td>51.0</td></tr><tr><td>K-4216 Birkenes</td><td>Kvinner</td><td>0 år</td><td>22.0</td><td>21.0</td><td>30.0</td><td>15.0</td></tr><tr><td>K-4217 Åmli</td><td>Kvinner</td><td>0 år</td><td>11.0</td><td>5.0</td><td>5.0</td><td>3.0</td></tr><tr><td>K-4218 Iveland</td><td>Kvinner</td><td>0 år</td><td>3.0</td><td>12.0</td><td>10.0</td><td>6.0</td></tr><tr><td>K-4219 Evje og Hornnes</td><td>Kvinner</td><td>0 år</td><td>19.0</td><td>22.0</td><td>21.0</td><td>23.0</td></tr><tr><td>K-4220 Bygland</td><td>Kvinner</td><td>0 år</td><td>4.0</td><td>4.0</td><td>6.0</td><td>4.0</td></tr><tr><td>K-4221 Valle</td><td>Kvinner</td><td>0 år</td><td>6.0</td><td>5.0</td><td>6.0</td><td>2.0</td></tr><tr><td>K-4222 Bykle</td><td>Kvinner</td><td>0 år</td><td>2.0</td><td>6.0</td><td>5.0</td><td>5.0</td></tr><tr><td>K-4223 Vennesla</td><td>Kvinner</td><td>0 år</td><td>93.0</td><td>67.0</td><td>81.0</td><td>63.0</td></tr><tr><td>K-4224 Åseral</td><td>Kvinner</td><td>0 år</td><td>6.0</td><td>2.0</td><td>3.0</td><td>4.0</td></tr><tr><td>K-4225 Lyngdal</td><td>Kvinner</td><td>0 år</td><td>53.0</td><td>55.0</td><td>46.0</td><td>63.0</td></tr><tr><td>K-4226 Hægebostad</td><td>Kvinner</td><td>0 år</td><td>9.0</td><td>7.0</td><td>5.0</td><td>6.0</td></tr><tr><td>K-4227 Kvinesdal</td><td>Kvinner</td><td>0 år</td><td>20.0</td><td>30.0</td><td>27.0</td><td>24.0</td></tr><tr><td>K-4228 Sirdal</td><td>Kvinner</td><td>0 år</td><td>7.0</td><td>7.0</td><td>7.0</td><td>8.0</td></tr><tr><td>K-1101 Eigersund</td><td>Kvinner</td><td>0 år</td><td>73.0</td><td>83.0</td><td>69.0</td><td>79.0</td></tr><tr><td>K-1103 Stavanger</td><td>Kvinner</td><td>0 år</td><td>763.0</td><td>690.0</td><td>709.0</td><td>692.0</td></tr><tr><td>K-1106 Haugesund</td><td>Kvinner</td><td>0 år</td><td>184.0</td><td>171.0</td><td>192.0</td><td>174.0</td></tr><tr><td>K-1108 Sandnes</td><td>Kvinner</td><td>0 år</td><td>470.0</td><td>450.0</td><td>467.0</td><td>448.0</td></tr><tr><td>K-1111 Sokndal</td><td>Kvinner</td><td>0 år</td><td>18.0</td><td>19.0</td><td>23.0</td><td>15.0</td></tr><tr><td>K-1112 Lund</td><td>Kvinner</td><td>0 år</td><td>24.0</td><td>14.0</td><td>16.0</td><td>19.0</td></tr><tr><td>K-1114 Bjerkreim</td><td>Kvinner</td><td>0 år</td><td>9.0</td><td>9.0</td><td>14.0</td><td>13.0</td></tr><tr><td>K-1119 Hå</td><td>Kvinner</td><td>0 år</td><td>108.0</td><td>130.0</td><td>127.0</td><td>124.0</td></tr><tr><td>K-1120 Klepp</td><td>Kvinner</td><td>0 år</td><td>128.0</td><td>127.0</td><td>111.0</td><td>123.0</td></tr><tr><td>K-1121 Time</td><td>Kvinner</td><td>0 år</td><td>124.0</td><td>98.0</td><td>104.0</td><td>114.0</td></tr><tr><td>K-1122 Gjesdal</td><td>Kvinner</td><td>0 år</td><td>58.0</td><td>55.0</td><td>61.0</td><td>63.0</td></tr><tr><td>K-1124 Sola</td><td>Kvinner</td><td>0 år</td><td>151.0</td><td>156.0</td><td>149.0</td><td>152.0</td></tr><tr><td>K-1127 Randaberg</td><td>Kvinner</td><td>0 år</td><td>72.0</td><td>65.0</td><td>54.0</td><td>63.0</td></tr><tr><td>K-1130 Strand</td><td>Kvinner</td><td>0 år</td><td>82.0</td><td>67.0</td><td>61.0</td><td>87.0</td></tr><tr><td>K-1133 Hjelmeland</td><td>Kvinner</td><td>0 år</td><td>10.0</td><td>9.0</td><td>14.0</td><td>12.0</td></tr><tr><td>K-1134 Suldal</td><td>Kvinner</td><td>0 år</td><td>19.0</td><td>20.0</td><td>16.0</td><td>15.0</td></tr><tr><td>K-1135 Sauda</td><td>Kvinner</td><td>0 år</td><td>24.0</td><td>23.0</td><td>17.0</td><td>21.0</td></tr><tr><td>K-1144 Kvitsøy</td><td>Kvinner</td><td>0 år</td><td>2.0</td><td>0.0</td><td>3.0</td><td>3.0</td></tr><tr><td>K-1145 Bokn</td><td>Kvinner</td><td>0 år</td><td>5.0</td><td>4.0</td><td>5.0</td><td>5.0</td></tr><tr><td>K-1146 Tysvær</td><td>Kvinner</td><td>0 år</td><td>67.0</td><td>59.0</td><td>59.0</td><td>66.0</td></tr><tr><td>K-1149 Karmøy</td><td>Kvinner</td><td>0 år</td><td>249.0</td><td>212.0</td><td>224.0</td><td>230.0</td></tr><tr><td>K-1151 Utsira</td><td>Kvinner</td><td>0 år</td><td>0.0</td><td>0.0</td><td>1.0</td><td>0.0</td></tr><tr><td>K-1160 Vindafjord</td><td>Kvinner</td><td>0 år</td><td>40.0</td><td>58.0</td><td>50.0</td><td>53.0</td></tr><tr><td>K-4601 Bergen</td><td>Kvinner</td><td>0 år</td><td>1530.0</td><td>1444.0</td><td>1388.0</td><td>1431.0</td></tr><tr><td>K-4602 Kinn</td><td>Kvinner</td><td>0 år</td><td>76.0</td><td>69.0</td><td>72.0</td><td>75.0</td></tr><tr><td>K-4611 Etne</td><td>Kvinner</td><td>0 år</td><td>21.0</td><td>27.0</td><td>15.0</td><td>21.0</td></tr><tr><td>K-4612 Sveio</td><td>Kvinner</td><td>0 år</td><td>20.0</td><td>23.0</td><td>28.0</td><td>28.0</td></tr><tr><td>K-4613 Bømlo</td><td>Kvinner</td><td>0 år</td><td>55.0</td><td>39.0</td><td>65.0</td><td>57.0</td></tr><tr><td>K-4614 Stord</td><td>Kvinner</td><td>0 år</td><td>90.0</td><td>80.0</td><td>87.0</td><td>70.0</td></tr><tr><td>K-4615 Fitjar</td><td>Kvinner</td><td>0 år</td><td>10.0</td><td>18.0</td><td>15.0</td><td>20.0</td></tr><tr><td>K-4616 Tysnes</td><td>Kvinner</td><td>0 år</td><td>10.0</td><td>20.0</td><td>7.0</td><td>10.0</td></tr><tr><td>K-4617 Kvinnherad</td><td>Kvinner</td><td>0 år</td><td>74.0</td><td>60.0</td><td>48.0</td><td>65.0</td></tr><tr><td>K-4618 Ullensvang</td><td>Kvinner</td><td>0 år</td><td>50.0</td><td>49.0</td><td>43.0</td><td>53.0</td></tr><tr><td>K-4619 Eidfjord</td><td>Kvinner</td><td>0 år</td><td>8.0</td><td>2.0</td><td>6.0</td><td>4.0</td></tr><tr><td>K-4620 Ulvik</td><td>Kvinner</td><td>0 år</td><td>4.0</td><td>7.0</td><td>5.0</td><td>3.0</td></tr><tr><td>K-4621 Voss</td><td>Kvinner</td><td>0 år</td><td>63.0</td><td>89.0</td><td>83.0</td><td>81.0</td></tr><tr><td>K-4622 Kvam</td><td>Kvinner</td><td>0 år</td><td>41.0</td><td>46.0</td><td>33.0</td><td>29.0</td></tr><tr><td>K-4623 Samnanger</td><td>Kvinner</td><td>0 år</td><td>10.0</td><td>9.0</td><td>16.0</td><td>7.0</td></tr><tr><td>K-4624 Bjørnafjorden</td><td>Kvinner</td><td>0 år</td><td>139.0</td><td>127.0</td><td>145.0</td><td>135.0</td></tr><tr><td>K-4625 Austevoll</td><td>Kvinner</td><td>0 år</td><td>22.0</td><td>25.0</td><td>19.0</td><td>18.0</td></tr><tr><td>K-4626 Øygarden</td><td>Kvinner</td><td>0 år</td><td>249.0</td><td>179.0</td><td>179.0</td><td>187.0</td></tr><tr><td>K-4627 Askøy</td><td>Kvinner</td><td>0 år</td><td>159.0</td><td>164.0</td><td>143.0</td><td>146.0</td></tr><tr><td>K-4628 Vaksdal</td><td>Kvinner</td><td>0 år</td><td>15.0</td><td>9.0</td><td>12.0</td><td>13.0</td></tr><tr><td>K-4629 Modalen</td><td>Kvinner</td><td>0 år</td><td>3.0</td><td>0.0</td><td>3.0</td><td>1.0</td></tr><tr><td>K-4630 Osterøy</td><td>Kvinner</td><td>0 år</td><td>45.0</td><td>45.0</td><td>40.0</td><td>34.0</td></tr><tr><td>K-4631 Alver</td><td>Kvinner</td><td>0 år</td><td>157.0</td><td>147.0</td><td>139.0</td><td>121.0</td></tr><tr><td>K-4632 Austrheim</td><td>Kvinner</td><td>0 år</td><td>11.0</td><td>14.0</td><td>12.0</td><td>6.0</td></tr><tr><td>K-4633 Fedje</td><td>Kvinner</td><td>0 år</td><td>1.0</td><td>2.0</td><td>2.0</td><td>2.0</td></tr><tr><td>K-4634 Masfjorden</td><td>Kvinner</td><td>0 år</td><td>5.0</td><td>10.0</td><td>2.0</td><td>9.0</td></tr><tr><td>K-4635 Gulen</td><td>Kvinner</td><td>0 år</td><td>11.0</td><td>9.0</td><td>6.0</td><td>9.0</td></tr><tr><td>K-4636 Solund</td><td>Kvinner</td><td>0 år</td><td>2.0</td><td>1.0</td><td>4.0</td><td>1.0</td></tr><tr><td>K-4637 Hyllestad</td><td>Kvinner</td><td>0 år</td><td>3.0</td><td>2.0</td><td>5.0</td><td>8.0</td></tr><tr><td>K-4638 Høyanger</td><td>Kvinner</td><td>0 år</td><td>12.0</td><td>17.0</td><td>12.0</td><td>9.0</td></tr><tr><td>K-4639 Vik</td><td>Kvinner</td><td>0 år</td><td>9.0</td><td>13.0</td><td>13.0</td><td>13.0</td></tr><tr><td>K-4640 Sogndal</td><td>Kvinner</td><td>0 år</td><td>82.0</td><td>61.0</td><td>56.0</td><td>81.0</td></tr><tr><td>K-4641 Aurland</td><td>Kvinner</td><td>0 år</td><td>9.0</td><td>6.0</td><td>9.0</td><td>11.0</td></tr><tr><td>K-4642 Lærdal</td><td>Kvinner</td><td>0 år</td><td>4.0</td><td>10.0</td><td>13.0</td><td>8.0</td></tr><tr><td>K-4643 Årdal</td><td>Kvinner</td><td>0 år</td><td>20.0</td><td>16.0</td><td>21.0</td><td>20.0</td></tr><tr><td>K-4644 Luster</td><td>Kvinner</td><td>0 år</td><td>28.0</td><td>26.0</td><td>28.0</td><td>21.0</td></tr><tr><td>K-4645 Askvoll</td><td>Kvinner</td><td>0 år</td><td>13.0</td><td>5.0</td><td>10.0</td><td>11.0</td></tr><tr><td>K-4646 Fjaler</td><td>Kvinner</td><td>0 år</td><td>17.0</td><td>13.0</td><td>7.0</td><td>17.0</td></tr><tr><td>K-4647 Sunnfjord</td><td>Kvinner</td><td>0 år</td><td>120.0</td><td>111.0</td><td>102.0</td><td>111.0</td></tr><tr><td>K-4648 Bremanger</td><td>Kvinner</td><td>0 år</td><td>12.0</td><td>10.0</td><td>8.0</td><td>11.0</td></tr><tr><td>K-4649 Stad</td><td>Kvinner</td><td>0 år</td><td>54.0</td><td>43.0</td><td>40.0</td><td>47.0</td></tr><tr><td>K-4650 Gloppen</td><td>Kvinner</td><td>0 år</td><td>30.0</td><td>28.0</td><td>19.0</td><td>25.0</td></tr><tr><td>K-4651 Stryn</td><td>Kvinner</td><td>0 år</td><td>34.0</td><td>30.0</td><td>35.0</td><td>34.0</td></tr><tr><td>K-1505 Kristiansund</td><td>Kvinner</td><td>0 år</td><td>101.0</td><td>90.0</td><td>91.0</td><td>100.0</td></tr><tr><td>K-1506 Molde</td><td>Kvinner</td><td>0 år</td><td>157.0</td><td>131.0</td><td>147.0</td><td>153.0</td></tr><tr><td>K-1508 Ålesund</td><td>Kvinner</td><td>0 år</td><td>358.0</td><td>342.0</td><td>286.0</td><td>277.0</td></tr><tr><td>K-1511 Vanylven</td><td>Kvinner</td><td>0 år</td><td>12.0</td><td>8.0</td><td>7.0</td><td>11.0</td></tr><tr><td>K-1514 Sande (Møre og Romsdal)</td><td>Kvinner</td><td>0 år</td><td>20.0</td><td>7.0</td><td>12.0</td><td>10.0</td></tr><tr><td>K-1515 Herøy (Møre og Romsdal)</td><td>Kvinner</td><td>0 år</td><td>40.0</td><td>41.0</td><td>47.0</td><td>43.0</td></tr><tr><td>K-1516 Ulstein</td><td>Kvinner</td><td>0 år</td><td>49.0</td><td>44.0</td><td>43.0</td><td>37.0</td></tr><tr><td>K-1517 Hareid</td><td>Kvinner</td><td>0 år</td><td>29.0</td><td>13.0</td><td>23.0</td><td>16.0</td></tr><tr><td>K-1520 Ørsta</td><td>Kvinner</td><td>0 år</td><td>47.0</td><td>54.0</td><td>57.0</td><td>50.0</td></tr><tr><td>K-1525 Stranda</td><td>Kvinner</td><td>0 år</td><td>13.0</td><td>15.0</td><td>11.0</td><td>18.0</td></tr><tr><td>K-1528 Sykkylven</td><td>Kvinner</td><td>0 år</td><td>26.0</td><td>28.0</td><td>30.0</td><td>24.0</td></tr><tr><td>K-1531 Sula</td><td>Kvinner</td><td>0 år</td><td>57.0</td><td>54.0</td><td>52.0</td><td>52.0</td></tr><tr><td>K-1532 Giske</td><td>Kvinner</td><td>0 år</td><td>73.0</td><td>44.0</td><td>44.0</td><td>47.0</td></tr><tr><td>K-1535 Vestnes</td><td>Kvinner</td><td>0 år</td><td>31.0</td><td>19.0</td><td>32.0</td><td>42.0</td></tr><tr><td>K-1539 Rauma</td><td>Kvinner</td><td>0 år</td><td>25.0</td><td>32.0</td><td>24.0</td><td>34.0</td></tr><tr><td>K-1547 Aukra</td><td>Kvinner</td><td>0 år</td><td>14.0</td><td>9.0</td><td>17.0</td><td>21.0</td></tr><tr><td>K-1554 Averøy</td><td>Kvinner</td><td>0 år</td><td>24.0</td><td>26.0</td><td>21.0</td><td>26.0</td></tr><tr><td>K-1557 Gjemnes</td><td>Kvinner</td><td>0 år</td><td>18.0</td><td>7.0</td><td>9.0</td><td>12.0</td></tr><tr><td>K-1560 Tingvoll</td><td>Kvinner</td><td>0 år</td><td>17.0</td><td>14.0</td><td>10.0</td><td>12.0</td></tr><tr><td>K-1563 Sunndal</td><td>Kvinner</td><td>0 år</td><td>26.0</td><td>24.0</td><td>28.0</td><td>22.0</td></tr><tr><td>K-1566 Surnadal</td><td>Kvinner</td><td>0 år</td><td>31.0</td><td>28.0</td><td>29.0</td><td>25.0</td></tr><tr><td>K-1573 Smøla</td><td>Kvinner</td><td>0 år</td><td>14.0</td><td>5.0</td><td>8.0</td><td>8.0</td></tr><tr><td>K-1576 Aure</td><td>Kvinner</td><td>0 år</td><td>10.0</td><td>12.0</td><td>12.0</td><td>6.0</td></tr><tr><td>K-1577 Volda</td><td>Kvinner</td><td>0 år</td><td>66.0</td><td>47.0</td><td>48.0</td><td>55.0</td></tr><tr><td>K-1578 Fjord</td><td>Kvinner</td><td>0 år</td><td>6.0</td><td>7.0</td><td>8.0</td><td>11.0</td></tr><tr><td>K-1579 Hustadvika</td><td>Kvinner</td><td>0 år</td><td>69.0</td><td>62.0</td><td>72.0</td><td>54.0</td></tr><tr><td>K-1580 Haram</td><td>Kvinner</td><td>0 år</td><td>0.0</td><td>0.0</td><td>38.0</td><td>39.0</td></tr><tr><td>K-5001 Trondheim - Tråante</td><td>Kvinner</td><td>0 år</td><td>1166.0</td><td>1011.0</td><td>988.0</td><td>1018.0</td></tr><tr><td>K-5006 Steinkjer</td><td>Kvinner</td><td>0 år</td><td>106.0</td><td>91.0</td><td>88.0</td><td>106.0</td></tr><tr><td>K-5007 Namsos - Nåavmesjenjaelmie</td><td>Kvinner</td><td>0 år</td><td>65.0</td><td>73.0</td><td>79.0</td><td>63.0</td></tr><tr><td>K-5014 Frøya</td><td>Kvinner</td><td>0 år</td><td>29.0</td><td>28.0</td><td>22.0</td><td>30.0</td></tr><tr><td>K-5020 Osen</td><td>Kvinner</td><td>0 år</td><td>5.0</td><td>2.0</td><td>3.0</td><td>3.0</td></tr><tr><td>K-5021 Oppdal</td><td>Kvinner</td><td>0 år</td><td>37.0</td><td>30.0</td><td>34.0</td><td>30.0</td></tr><tr><td>K-5022 Rennebu</td><td>Kvinner</td><td>0 år</td><td>10.0</td><td>16.0</td><td>11.0</td><td>8.0</td></tr><tr><td>K-5025 Røros - Rosse</td><td>Kvinner</td><td>0 år</td><td>29.0</td><td>18.0</td><td>19.0</td><td>28.0</td></tr><tr><td>K-5026 Holtålen</td><td>Kvinner</td><td>0 år</td><td>7.0</td><td>15.0</td><td>13.0</td><td>11.0</td></tr><tr><td>K-5027 Midtre Gauldal</td><td>Kvinner</td><td>0 år</td><td>38.0</td><td>34.0</td><td>30.0</td><td>28.0</td></tr><tr><td>K-5028 Melhus</td><td>Kvinner</td><td>0 år</td><td>92.0</td><td>75.0</td><td>85.0</td><td>101.0</td></tr><tr><td>K-5029 Skaun</td><td>Kvinner</td><td>0 år</td><td>42.0</td><td>42.0</td><td>33.0</td><td>45.0</td></tr><tr><td>K-5031 Malvik</td><td>Kvinner</td><td>0 år</td><td>79.0</td><td>64.0</td><td>64.0</td><td>80.0</td></tr><tr><td>K-5032 Selbu</td><td>Kvinner</td><td>0 år</td><td>23.0</td><td>19.0</td><td>20.0</td><td>19.0</td></tr><tr><td>K-5033 Tydal</td><td>Kvinner</td><td>0 år</td><td>1.0</td><td>1.0</td><td>3.0</td><td>1.0</td></tr><tr><td>K-5034 Meråker</td><td>Kvinner</td><td>0 år</td><td>3.0</td><td>6.0</td><td>12.0</td><td>8.0</td></tr><tr><td>K-5035 Stjørdal</td><td>Kvinner</td><td>0 år</td><td>124.0</td><td>118.0</td><td>92.0</td><td>106.0</td></tr><tr><td>K-5036 Frosta</td><td>Kvinner</td><td>0 år</td><td>13.0</td><td>13.0</td><td>14.0</td><td>3.0</td></tr><tr><td>K-5037 Levanger - Levangke</td><td>Kvinner</td><td>0 år</td><td>114.0</td><td>81.0</td><td>84.0</td><td>91.0</td></tr><tr><td>K-5038 Verdal</td><td>Kvinner</td><td>0 år</td><td>59.0</td><td>65.0</td><td>78.0</td><td>63.0</td></tr><tr><td>K-5041 Snåase - Snåsa</td><td>Kvinner</td><td>0 år</td><td>18.0</td><td>10.0</td><td>11.0</td><td>15.0</td></tr><tr><td>K-5042 Lierne</td><td>Kvinner</td><td>0 år</td><td>3.0</td><td>1.0</td><td>3.0</td><td>3.0</td></tr><tr><td>K-5043 Raarvihke - Røyrvik</td><td>Kvinner</td><td>0 år</td><td>1.0</td><td>0.0</td><td>2.0</td><td>1.0</td></tr><tr><td>K-5044 Namsskogan</td><td>Kvinner</td><td>0 år</td><td>2.0</td><td>1.0</td><td>3.0</td><td>1.0</td></tr><tr><td>K-5045 Grong</td><td>Kvinner</td><td>0 år</td><td>13.0</td><td>10.0</td><td>8.0</td><td>9.0</td></tr><tr><td>K-5046 Høylandet</td><td>Kvinner</td><td>0 år</td><td>3.0</td><td>3.0</td><td>2.0</td><td>5.0</td></tr><tr><td>K-5047 Overhalla</td><td>Kvinner</td><td>0 år</td><td>19.0</td><td>14.0</td><td>22.0</td><td>13.0</td></tr><tr><td>K-5049 Flatanger</td><td>Kvinner</td><td>0 år</td><td>10.0</td><td>4.0</td><td>7.0</td><td>6.0</td></tr><tr><td>K-5052 Leka</td><td>Kvinner</td><td>0 år</td><td>2.0</td><td>1.0</td><td>4.0</td><td>3.0</td></tr><tr><td>K-5053 Inderøy</td><td>Kvinner</td><td>0 år</td><td>24.0</td><td>29.0</td><td>34.0</td><td>29.0</td></tr><tr><td>K-5054 Indre Fosen</td><td>Kvinner</td><td>0 år</td><td>30.0</td><td>43.0</td><td>29.0</td><td>37.0</td></tr><tr><td>K-5055 Heim</td><td>Kvinner</td><td>0 år</td><td>28.0</td><td>25.0</td><td>19.0</td><td>21.0</td></tr><tr><td>K-5056 Hitra</td><td>Kvinner</td><td>0 år</td><td>35.0</td><td>28.0</td><td>27.0</td><td>29.0</td></tr><tr><td>K-5057 Ørland</td><td>Kvinner</td><td>0 år</td><td>51.0</td><td>63.0</td><td>51.0</td><td>39.0</td></tr><tr><td>K-5058 Åfjord</td><td>Kvinner</td><td>0 år</td><td>16.0</td><td>19.0</td><td>26.0</td><td>21.0</td></tr><tr><td>K-5059 Orkland</td><td>Kvinner</td><td>0 år</td><td>90.0</td><td>87.0</td><td>77.0</td><td>79.0</td></tr><tr><td>K-5060 Nærøysund</td><td>Kvinner</td><td>0 år</td><td>53.0</td><td>53.0</td><td>67.0</td><td>45.0</td></tr><tr><td>K-5061 Rindal</td><td>Kvinner</td><td>0 år</td><td>9.0</td><td>7.0</td><td>6.0</td><td>10.0</td></tr><tr><td>K-1804 Bodø</td><td>Kvinner</td><td>0 år</td><td>278.0</td><td>225.0</td><td>267.0</td><td>242.0</td></tr><tr><td>K-1806 Narvik</td><td>Kvinner</td><td>0 år</td><td>95.0</td><td>83.0</td><td>87.0</td><td>78.0</td></tr><tr><td>K-1811 Bindal</td><td>Kvinner</td><td>0 år</td><td>7.0</td><td>7.0</td><td>6.0</td><td>3.0</td></tr><tr><td>K-1812 Sømna</td><td>Kvinner</td><td>0 år</td><td>9.0</td><td>10.0</td><td>7.0</td><td>8.0</td></tr><tr><td>K-1813 Brønnøy</td><td>Kvinner</td><td>0 år</td><td>31.0</td><td>35.0</td><td>25.0</td><td>37.0</td></tr><tr><td>K-1815 Vega</td><td>Kvinner</td><td>0 år</td><td>6.0</td><td>9.0</td><td>6.0</td><td>1.0</td></tr><tr><td>K-1816 Vevelstad</td><td>Kvinner</td><td>0 år</td><td>1.0</td><td>0.0</td><td>3.0</td><td>0.0</td></tr><tr><td>K-1818 Herøy (Nordland)</td><td>Kvinner</td><td>0 år</td><td>6.0</td><td>7.0</td><td>5.0</td><td>10.0</td></tr><tr><td>K-1820 Alstahaug</td><td>Kvinner</td><td>0 år</td><td>26.0</td><td>27.0</td><td>26.0</td><td>21.0</td></tr><tr><td>K-1822 Leirfjord</td><td>Kvinner</td><td>0 år</td><td>12.0</td><td>14.0</td><td>15.0</td><td>10.0</td></tr><tr><td>K-1824 Vefsn</td><td>Kvinner</td><td>0 år</td><td>57.0</td><td>61.0</td><td>65.0</td><td>57.0</td></tr><tr><td>K-1825 Grane</td><td>Kvinner</td><td>0 år</td><td>6.0</td><td>7.0</td><td>3.0</td><td>4.0</td></tr><tr><td>K-1826 Aarborte - Hattfjelldal</td><td>Kvinner</td><td>0 år</td><td>9.0</td><td>6.0</td><td>7.0</td><td>8.0</td></tr><tr><td>K-1827 Dønna</td><td>Kvinner</td><td>0 år</td><td>9.0</td><td>4.0</td><td>6.0</td><td>5.0</td></tr><tr><td>K-1828 Nesna</td><td>Kvinner</td><td>0 år</td><td>12.0</td><td>5.0</td><td>3.0</td><td>2.0</td></tr><tr><td>K-1832 Hemnes</td><td>Kvinner</td><td>0 år</td><td>28.0</td><td>15.0</td><td>17.0</td><td>20.0</td></tr><tr><td>K-1833 Rana - Raane</td><td>Kvinner</td><td>0 år</td><td>128.0</td><td>101.0</td><td>131.0</td><td>113.0</td></tr><tr><td>K-1834 Lurøy</td><td>Kvinner</td><td>0 år</td><td>8.0</td><td>6.0</td><td>11.0</td><td>6.0</td></tr><tr><td>K-1835 Træna</td><td>Kvinner</td><td>0 år</td><td>3.0</td><td>0.0</td><td>3.0</td><td>0.0</td></tr><tr><td>K-1836 Rødøy</td><td>Kvinner</td><td>0 år</td><td>2.0</td><td>4.0</td><td>5.0</td><td>2.0</td></tr><tr><td>K-1837 Meløy</td><td>Kvinner</td><td>0 år</td><td>18.0</td><td>19.0</td><td>29.0</td><td>17.0</td></tr><tr><td>K-1838 Gildeskål</td><td>Kvinner</td><td>0 år</td><td>7.0</td><td>4.0</td><td>5.0</td><td>7.0</td></tr><tr><td>K-1839 Beiarn</td><td>Kvinner</td><td>0 år</td><td>4.0</td><td>1.0</td><td>4.0</td><td>3.0</td></tr><tr><td>K-1840 Saltdal</td><td>Kvinner</td><td>0 år</td><td>13.0</td><td>18.0</td><td>12.0</td><td>10.0</td></tr><tr><td>K-1841 Fauske - Fuossko</td><td>Kvinner</td><td>0 år</td><td>44.0</td><td>40.0</td><td>43.0</td><td>38.0</td></tr><tr><td>K-1845 Sørfold - Fuolldá</td><td>Kvinner</td><td>0 år</td><td>7.0</td><td>5.0</td><td>6.0</td><td>4.0</td></tr><tr><td>K-1848 Steigen</td><td>Kvinner</td><td>0 år</td><td>13.0</td><td>14.0</td><td>12.0</td><td>12.0</td></tr><tr><td>K-1851 Lødingen</td><td>Kvinner</td><td>0 år</td><td>6.0</td><td>4.0</td><td>3.0</td><td>4.0</td></tr><tr><td>K-1853 Evenes - Evenássi</td><td>Kvinner</td><td>0 år</td><td>5.0</td><td>2.0</td><td>2.0</td><td>5.0</td></tr><tr><td>K-1856 Røst</td><td>Kvinner</td><td>0 år</td><td>2.0</td><td>2.0</td><td>0.0</td><td>2.0</td></tr><tr><td>K-1857 Værøy</td><td>Kvinner</td><td>0 år</td><td>3.0</td><td>1.0</td><td>5.0</td><td>0.0</td></tr><tr><td>K-1859 Flakstad</td><td>Kvinner</td><td>0 år</td><td>6.0</td><td>5.0</td><td>5.0</td><td>4.0</td></tr><tr><td>K-1860 Vestvågøy</td><td>Kvinner</td><td>0 år</td><td>70.0</td><td>48.0</td><td>63.0</td><td>62.0</td></tr><tr><td>K-1865 Vågan</td><td>Kvinner</td><td>0 år</td><td>43.0</td><td>40.0</td><td>28.0</td><td>44.0</td></tr><tr><td>K-1866 Hadsel</td><td>Kvinner</td><td>0 år</td><td>38.0</td><td>40.0</td><td>39.0</td><td>31.0</td></tr><tr><td>K-1867 Bø</td><td>Kvinner</td><td>0 år</td><td>9.0</td><td>6.0</td><td>10.0</td><td>8.0</td></tr><tr><td>K-1868 Øksnes</td><td>Kvinner</td><td>0 år</td><td>12.0</td><td>17.0</td><td>15.0</td><td>16.0</td></tr><tr><td>K-1870 Sortland - Suortá</td><td>Kvinner</td><td>0 år</td><td>47.0</td><td>39.0</td><td>42.0</td><td>54.0</td></tr><tr><td>K-1871 Andøy</td><td>Kvinner</td><td>0 år</td><td>22.0</td><td>19.0</td><td>18.0</td><td>15.0</td></tr><tr><td>K-1874 Moskenes</td><td>Kvinner</td><td>0 år</td><td>3.0</td><td>3.0</td><td>4.0</td><td>0.0</td></tr><tr><td>K-1875 Hábmer - Hamarøy</td><td>Kvinner</td><td>0 år</td><td>15.0</td><td>9.0</td><td>15.0</td><td>9.0</td></tr><tr><td>K-5501 Tromsø</td><td>Kvinner</td><td>0 år</td><td>454.0</td><td>373.0</td><td>404.0</td><td>379.0</td></tr><tr><td>K-5503 Harstad - Hárstták</td><td>Kvinner</td><td>0 år</td><td>129.0</td><td>111.0</td><td>108.0</td><td>94.0</td></tr><tr><td>K-5510 Kvæfjord</td><td>Kvinner</td><td>0 år</td><td>14.0</td><td>10.0</td><td>8.0</td><td>14.0</td></tr><tr><td>K-5512 Dielddanuorri - Tjeldsund</td><td>Kvinner</td><td>0 år</td><td>21.0</td><td>14.0</td><td>19.0</td><td>13.0</td></tr><tr><td>K-5514 Ibestad</td><td>Kvinner</td><td>0 år</td><td>2.0</td><td>6.0</td><td>2.0</td><td>4.0</td></tr><tr><td>K-5516 Gratangen - Rivtták</td><td>Kvinner</td><td>0 år</td><td>3.0</td><td>2.0</td><td>1.0</td><td>4.0</td></tr><tr><td>K-5518 Loabák - Lavangen</td><td>Kvinner</td><td>0 år</td><td>2.0</td><td>5.0</td><td>3.0</td><td>4.0</td></tr><tr><td>K-5520 Bardu</td><td>Kvinner</td><td>0 år</td><td>15.0</td><td>14.0</td><td>14.0</td><td>15.0</td></tr><tr><td>K-5522 Salangen</td><td>Kvinner</td><td>0 år</td><td>10.0</td><td>5.0</td><td>11.0</td><td>11.0</td></tr><tr><td>K-5524 Målselv</td><td>Kvinner</td><td>0 år</td><td>37.0</td><td>27.0</td><td>28.0</td><td>32.0</td></tr><tr><td>K-5526 Sørreisa</td><td>Kvinner</td><td>0 år</td><td>10.0</td><td>7.0</td><td>23.0</td><td>19.0</td></tr><tr><td>K-5528 Dyrøy</td><td>Kvinner</td><td>0 år</td><td>2.0</td><td>3.0</td><td>7.0</td><td>2.0</td></tr><tr><td>K-5530 Senja</td><td>Kvinner</td><td>0 år</td><td>77.0</td><td>79.0</td><td>46.0</td><td>62.0</td></tr><tr><td>K-5532 Balsfjord</td><td>Kvinner</td><td>0 år</td><td>35.0</td><td>15.0</td><td>22.0</td><td>23.0</td></tr><tr><td>K-5534 Karlsøy</td><td>Kvinner</td><td>0 år</td><td>7.0</td><td>9.0</td><td>8.0</td><td>2.0</td></tr><tr><td>K-5536 Lyngen</td><td>Kvinner</td><td>0 år</td><td>3.0</td><td>5.0</td><td>8.0</td><td>10.0</td></tr><tr><td>K-5538 Storfjord - Omasvuotna - Omasvuono</td><td>Kvinner</td><td>0 år</td><td>3.0</td><td>6.0</td><td>3.0</td><td>7.0</td></tr><tr><td>K-5540 Gáivuotna - Kåfjord - Kaivuono</td><td>Kvinner</td><td>0 år</td><td>6.0</td><td>5.0</td><td>8.0</td><td>2.0</td></tr><tr><td>K-5542 Skjervøy</td><td>Kvinner</td><td>0 år</td><td>14.0</td><td>7.0</td><td>5.0</td><td>13.0</td></tr><tr><td>K-5544 Nordreisa - Ráisa - Raisi</td><td>Kvinner</td><td>0 år</td><td>17.0</td><td>25.0</td><td>20.0</td><td>14.0</td></tr><tr><td>K-5546 Kvænangen</td><td>Kvinner</td><td>0 år</td><td>4.0</td><td>5.0</td><td>1.0</td><td>1.0</td></tr><tr><td>K-5601 Alta</td><td>Kvinner</td><td>0 år</td><td>124.0</td><td>112.0</td><td>120.0</td><td>141.0</td></tr><tr><td>K-5603 Hammerfest - Hámmerfeasta</td><td>Kvinner</td><td>0 år</td><td>39.0</td><td>55.0</td><td>46.0</td><td>52.0</td></tr><tr><td>K-5605 Sør-Varanger</td><td>Kvinner</td><td>0 år</td><td>45.0</td><td>42.0</td><td>50.0</td><td>42.0</td></tr><tr><td>K-5607 Vadsø</td><td>Kvinner</td><td>0 år</td><td>26.0</td><td>27.0</td><td>35.0</td><td>23.0</td></tr><tr><td>K-5610 Kárásjohka - Karasjok</td><td>Kvinner</td><td>0 år</td><td>10.0</td><td>13.0</td><td>10.0</td><td>12.0</td></tr><tr><td>K-5612 Guovdageaidnu - Kautokeino</td><td>Kvinner</td><td>0 år</td><td>12.0</td><td>8.0</td><td>19.0</td><td>7.0</td></tr><tr><td>K-5614 Loppa</td><td>Kvinner</td><td>0 år</td><td>4.0</td><td>1.0</td><td>6.0</td><td>3.0</td></tr><tr><td>K-5616 Hasvik</td><td>Kvinner</td><td>0 år</td><td>3.0</td><td>1.0</td><td>2.0</td><td>4.0</td></tr><tr><td>K-5618 Måsøy</td><td>Kvinner</td><td>0 år</td><td>2.0</td><td>1.0</td><td>3.0</td><td>2.0</td></tr><tr><td>K-5620 Nordkapp</td><td>Kvinner</td><td>0 år</td><td>14.0</td><td>7.0</td><td>10.0</td><td>11.0</td></tr><tr><td>K-5622 Porsanger - Porsángu - Porsanki</td><td>Kvinner</td><td>0 år</td><td>20.0</td><td>7.0</td><td>13.0</td><td>16.0</td></tr><tr><td>K-5624 Lebesby</td><td>Kvinner</td><td>0 år</td><td>6.0</td><td>4.0</td><td>4.0</td><td>0.0</td></tr><tr><td>K-5626 Gamvik</td><td>Kvinner</td><td>0 år</td><td>4.0</td><td>3.0</td><td>2.0</td><td>4.0</td></tr><tr><td>K-5628 Deatnu - Tana</td><td>Kvinner</td><td>0 år</td><td>15.0</td><td>11.0</td><td>15.0</td><td>8.0</td></tr><tr><td>K-5630 Berlevåg</td><td>Kvinner</td><td>0 år</td><td>4.0</td><td>2.0</td><td>3.0</td><td>4.0</td></tr><tr><td>K-5632 Båtsfjord</td><td>Kvinner</td><td>0 år</td><td>12.0</td><td>8.0</td><td>9.0</td><td>10.0</td></tr><tr><td>K-5634 Vardø</td><td>Kvinner</td><td>0 år</td><td>8.0</td><td>6.0</td><td>8.0</td><td>5.0</td></tr><tr><td>K-5636 Unjárga - Nesseby</td><td>Kvinner</td><td>0 år</td><td>2.0</td><td>4.0</td><td>2.0</td><td>3.0</td></tr><tr><td>K-21-22 Svalbard og Jan Mayen</td><td>Kvinner</td><td>0 år</td><td>0.0</td><td>0.0</td><td>0.0</td><td>0.0</td></tr><tr><td>K-23 Kontinentalsokkelen</td><td>Kvinner</td><td>0 år</td><td>0.0</td><td>0.0</td><td>0.0</td><td>0.0</td></tr><tr><td>K-Rest Delte kommuner og uoppgitt</td><td>Kvinner</td><td>0 år</td><td>0.0</td><td>0.0</td><td>0.0</td><td>0.0</td></tr><tr><td>region:</td><td>null</td><td>null</td><td>null</td><td>null</td><td>null</td><td>null</td></tr><tr><td><a href='https://www.ssb.no/offentlig-sektor/kommunekatalog/endringer-i-de-regionale-inndelingene' target='footnote'><b>Se liste over endringer i de regionale inndelingene.</b></a> <br><br>\n",
       "<a href='https://www.ssb.no/statbank/hvordan-bruke-statistikkbanken/statistikkbanktabeller-med-sammenslatte-tidsserier' target='footnote'>Tabeller som bruker ny regioninndeling også for årene før 2024.</a></td><td>null</td><td>null</td><td>null</td><td>null</td><td>null</td><td>null</td></tr><tr><td>region:</td><td>null</td><td>null</td><td>null</td><td>null</td><td>null</td><td>null</td></tr><tr><td>Lillestrøm:</td><td>null</td><td>null</td><td>null</td><td>null</td><td>null</td><td>null</td></tr><tr><td>Før 2020 er tall for grunnkrets Rånåsfoss og deler av Hellesjø regnet med under K-3205 Lillestrøm. Fra 2020 er områdene regnet med under K-3228 Nes.</td><td>null</td><td>null</td><td>null</td><td>null</td><td>null</td><td>null</td></tr><tr><td>region:</td><td>null</td><td>null</td><td>null</td><td>null</td><td>null</td><td>null</td></tr><tr><td>Nordre Follo:</td><td>null</td><td>null</td><td>null</td><td>null</td><td>null</td><td>null</td></tr><tr><td>Før 2020 er tall for Tandbergløkka (del av grunnkrets Østensjø) regnet med under K-3218 Ås. Fra 2020 er området regnet med under K-3207 Nordre Follo.</td><td>null</td><td>null</td><td>null</td><td>null</td><td>null</td><td>null</td></tr><tr><td>region:</td><td>null</td><td>null</td><td>null</td><td>null</td><td>null</td><td>null</td></tr><tr><td>Ås:</td><td>null</td><td>null</td><td>null</td><td>null</td><td>null</td><td>null</td></tr><tr><td>Før 2020 er tall for Tandbergløkka (del av grunnkrets Østensjø) regnet med under K-3218 Ås. Fra 2020 er området regnet med under K-3207 Nordre Follo.</td><td>null</td><td>null</td><td>null</td><td>null</td><td>null</td><td>null</td></tr><tr><td>region:</td><td>null</td><td>null</td><td>null</td><td>null</td><td>null</td><td>null</td></tr><tr><td>Nes:</td><td>null</td><td>null</td><td>null</td><td>null</td><td>null</td><td>null</td></tr><tr><td>Før 2020 er tall for grunnkrets Rånåsfoss og deler av Hellesjø regnet med under K-3205 Lillestrøm. Fra 2020 er områdene regnet med under K-3228 Nes.</td><td>null</td><td>null</td><td>null</td><td>null</td><td>null</td><td>null</td></tr><tr><td>region:</td><td>null</td><td>null</td><td>null</td><td>null</td><td>null</td><td>null</td></tr><tr><td>Horten:</td><td>null</td><td>null</td><td>null</td><td>null</td><td>null</td><td>null</td></tr><tr><td>Før 2020 er tall for Pauliveien og Skoppum regnet med under K-3905 Tønsberg. Fra 2020 er områdene regnet med under K-3901 Horten. Før 2020 er tall for Haugan regnet med under K-3901 Horten. Fra 2020 er området regnet med under K-3905 Tønsberg.</td><td>null</td><td>null</td><td>null</td><td>null</td><td>null</td><td>null</td></tr><tr><td>region:</td><td>null</td><td>null</td><td>null</td><td>null</td><td>null</td><td>null</td></tr><tr><td>Holmestrand:</td><td>null</td><td>null</td><td>null</td><td>null</td><td>null</td><td>null</td></tr><tr><td>Før 2020 er tall for grunnkrets Mulvika regnet med under K-3905 Tønsberg. Fra 2020 er grunnkretsen regnet med under K-3903 Holmestrand.</td><td>null</td><td>null</td><td>null</td><td>null</td><td>null</td><td>null</td></tr><tr><td>region:</td><td>null</td><td>null</td><td>null</td><td>null</td><td>null</td><td>null</td></tr><tr><td>Tønsberg:</td><td>null</td><td>null</td><td>null</td><td>null</td><td>null</td><td>null</td></tr><tr><td>Før 2020 er tall for Pauliveien og Skoppum regnet med under K-3905 Tønsberg. Fra 2020 er områdene regnet med under K-3901 Horten. Før 2020 er tall for Haugan regnet med under K-3901 Horten. Fra 2020 er området regnet med under K-3905 Tønsberg.</td><td>null</td><td>null</td><td>null</td><td>null</td><td>null</td><td>null</td></tr><tr><td>region:</td><td>null</td><td>null</td><td>null</td><td>null</td><td>null</td><td>null</td></tr><tr><td>Tønsberg:</td><td>null</td><td>null</td><td>null</td><td>null</td><td>null</td><td>null</td></tr><tr><td>Før 2020 er tall for grunnkrets Mulvika regnet med under K-3905 Tønsberg. Fra 2020 er grunnkretsen regnet med under K-3903 Holmestrand.</td><td>null</td><td>null</td><td>null</td><td>null</td><td>null</td><td>null</td></tr><tr><td>region:</td><td>null</td><td>null</td><td>null</td><td>null</td><td>null</td><td>null</td></tr><tr><td>Notodden:</td><td>null</td><td>null</td><td>null</td><td>null</td><td>null</td><td>null</td></tr><tr><td>Før 2020 er tall for grunnkretsene Andgard og Hjuksebø regnet med under K-4020 Midt-Telemark. Fra 2020 er grunnkretsene regnet med under K-4005 Notodden.</td><td>null</td><td>null</td><td>null</td><td>null</td><td>null</td><td>null</td></tr><tr><td>region:</td><td>null</td><td>null</td><td>null</td><td>null</td><td>null</td><td>null</td></tr><tr><td>Midt-Telemark:</td><td>null</td><td>null</td><td>null</td><td>null</td><td>null</td><td>null</td></tr><tr><td>Før 2020 er tall for grunnkretsene Andgard og Hjuksebø regnet med under K-4020 Midt-Telemark. Fra 2020 er grunnkretsene regnet med under K-4005 Notodden.</td><td>null</td><td>null</td><td>null</td><td>null</td><td>null</td><td>null</td></tr><tr><td>region:</td><td>null</td><td>null</td><td>null</td><td>null</td><td>null</td><td>null</td></tr><tr><td>Stavanger:</td><td>null</td><td>null</td><td>null</td><td>null</td><td>null</td><td>null</td></tr><tr><td>Hele tidsserien er beregnet ut fra kommunegrensene fra 2020. De tidligere kommunene Finnøy og Rennesøy er dermed medregnet før 2020. <br> Før 2020 er tall for grunnkrets Vestersjø regnet med under K-1133 Hjelmeland. Fra 2020 tilhører grunnkretsen 1103 Stavanger.</td><td>null</td><td>null</td><td>null</td><td>null</td><td>null</td><td>null</td></tr><tr><td>region:</td><td>null</td><td>null</td><td>null</td><td>null</td><td>null</td><td>null</td></tr><tr><td>Sandnes:</td><td>null</td><td>null</td><td>null</td><td>null</td><td>null</td><td>null</td></tr><tr><td>Før 2020 er tall for grunnkrets Kolabygda og deler av Sognesand og Forsand regnet med under K-1108 Sandnes. Fra 2020 tilhører områdene 1130 Strand.</td><td>null</td><td>null</td><td>null</td><td>null</td><td>null</td><td>null</td></tr><tr><td>region:</td><td>null</td><td>null</td><td>null</td><td>null</td><td>null</td><td>null</td></tr><tr><td>Strand:</td><td>null</td><td>null</td><td>null</td><td>null</td><td>null</td><td>null</td></tr><tr><td>Før 2020 er tall for grunnkrets Kolabygda og deler av Sognesand og Forsand regnet med under K-1108 Sandnes. Fra 2020 tilhører områdene 1130 Strand.</td><td>null</td><td>null</td><td>null</td><td>null</td><td>null</td><td>null</td></tr><tr><td>region:</td><td>null</td><td>null</td><td>null</td><td>null</td><td>null</td><td>null</td></tr><tr><td>Hjelmeland:</td><td>null</td><td>null</td><td>null</td><td>null</td><td>null</td><td>null</td></tr><tr><td>Hele tidsserien er beregnet ut fra kommunegrensene fra 2020. De tidligere kommunene Finnøy og Rennesøy er dermed medregnet før 2020. <br> Før 2020 er tall for grunnkrets Vestersjø regnet med under K-1133 Hjelmeland. Fra 2020 tilhører grunnkretsen 1103 Stavanger.</td><td>null</td><td>null</td><td>null</td><td>null</td><td>null</td><td>null</td></tr><tr><td>region:</td><td>null</td><td>null</td><td>null</td><td>null</td><td>null</td><td>null</td></tr><tr><td>Kinn:</td><td>null</td><td>null</td><td>null</td><td>null</td><td>null</td><td>null</td></tr><tr><td>Før 2020 er tall for grunnkretsene Totland, Bryggja og Maurstad regnet med under K-4602 Kinn. Fra 2020 tilhører grunnkretsene 4649 Stad.</td><td>null</td><td>null</td><td>null</td><td>null</td><td>null</td><td>null</td></tr><tr><td>region:</td><td>null</td><td>null</td><td>null</td><td>null</td><td>null</td><td>null</td></tr><tr><td>Ullensvang:</td><td>null</td><td>null</td><td>null</td><td>null</td><td>null</td><td>null</td></tr><tr><td>Før 2020 er tall for grunnkretsene Djønno og Tjoflot regnet med under K-4618 Ullensvang. Fra 2020 tilhører grunnkretsene 4621 Voss.</td><td>null</td><td>null</td><td>null</td><td>null</td><td>null</td><td>null</td></tr><tr><td>region:</td><td>null</td><td>null</td><td>null</td><td>null</td><td>null</td><td>null</td></tr><tr><td>Voss:</td><td>null</td><td>null</td><td>null</td><td>null</td><td>null</td><td>null</td></tr><tr><td>Før 2020 er tall for grunnkretsene Djønno og Tjoflot regnet med under K-4618 Ullensvang. Fra 2020 tilhører grunnkretsene 4621 Voss.</td><td>null</td><td>null</td><td>null</td><td>null</td><td>null</td><td>null</td></tr><tr><td>region:</td><td>null</td><td>null</td><td>null</td><td>null</td><td>null</td><td>null</td></tr><tr><td>Høyanger:</td><td>null</td><td>null</td><td>null</td><td>null</td><td>null</td><td>null</td></tr><tr><td>Før 2020 er tall for grunnkrets Nessane regnet med under K-4640 Sogndal. Fra 2020 tilhører grunnkretsen 4638 Høyanger.</td><td>null</td><td>null</td><td>null</td><td>null</td><td>null</td><td>null</td></tr><tr><td>region:</td><td>null</td><td>null</td><td>null</td><td>null</td><td>null</td><td>null</td></tr><tr><td>Sogndal:</td><td>null</td><td>null</td><td>null</td><td>null</td><td>null</td><td>null</td></tr><tr><td>Før 2020 er tall for grunnkrets Nessane regnet med under K-4640 Sogndal. Fra 2020 tilhører grunnkretsen 4638 Høyanger.</td><td>null</td><td>null</td><td>null</td><td>null</td><td>null</td><td>null</td></tr><tr><td>region:</td><td>null</td><td>null</td><td>null</td><td>null</td><td>null</td><td>null</td></tr><tr><td>Stad:</td><td>null</td><td>null</td><td>null</td><td>null</td><td>null</td><td>null</td></tr><tr><td>Før 2020 er tall for grunnkretsene Totland, Bryggja og Maurstad regnet med under K-4602 Kinn. Fra 2020 tilhører grunnkretsene 4649 Stad.</td><td>null</td><td>null</td><td>null</td><td>null</td><td>null</td><td>null</td></tr><tr><td>region:</td><td>null</td><td>null</td><td>null</td><td>null</td><td>null</td><td>null</td></tr><tr><td>Ålesund:</td><td>null</td><td>null</td><td>null</td><td>null</td><td>null</td><td>null</td></tr><tr><td>Før 2020 er tall for grunnkrets Orten regnet med under K-1508 Ålesund. Fra 2020 er grunnkretsen regnet med under K-1547 Aukra.</td><td>null</td><td>null</td><td>null</td><td>null</td><td>null</td><td>null</td></tr><tr><td>region:</td><td>null</td><td>null</td><td>null</td><td>null</td><td>null</td><td>null</td></tr><tr><td>Ålesund:</td><td>null</td><td>null</td><td>null</td><td>null</td><td>null</td><td>null</td></tr><tr><td>I årene 2020-2023 var Haram en del av Ålesund.</td><td>null</td><td>null</td><td>null</td><td>null</td><td>null</td><td>null</td></tr><tr><td>region:</td><td>null</td><td>null</td><td>null</td><td>null</td><td>null</td><td>null</td></tr><tr><td>Ørsta:</td><td>null</td><td>null</td><td>null</td><td>null</td><td>null</td><td>null</td></tr><tr><td>Før 2020 er tall for grunnkretsene Bjørke og Viddalen regnet med under K-1520 Ørsta. Fra 2020 tilhører grunnkretsene 1577 Volda.</td><td>null</td><td>null</td><td>null</td><td>null</td><td>null</td><td>null</td></tr><tr><td>region:</td><td>null</td><td>null</td><td>null</td><td>null</td><td>null</td><td>null</td></tr><tr><td>Aukra:</td><td>null</td><td>null</td><td>null</td><td>null</td><td>null</td><td>null</td></tr><tr><td>Før 2020 er tall for grunnkrets Orten regnet med under K-1508 Ålesund. Fra 2020 er grunnkretsen regnet med under K-1547 Aukra.</td><td>null</td><td>null</td><td>null</td><td>null</td><td>null</td><td>null</td></tr><tr><td>region:</td><td>null</td><td>null</td><td>null</td><td>null</td><td>null</td><td>null</td></tr><tr><td>Volda:</td><td>null</td><td>null</td><td>null</td><td>null</td><td>null</td><td>null</td></tr><tr><td>Før 2020 er tall for grunnkretsene Bjørke og Viddalen regnet med under K-1520 Ørsta. Fra 2020 tilhører grunnkretsene 1577 Volda.</td><td>null</td><td>null</td><td>null</td><td>null</td><td>null</td><td>null</td></tr><tr><td>region:</td><td>null</td><td>null</td><td>null</td><td>null</td><td>null</td><td>null</td></tr><tr><td>Haram:</td><td>null</td><td>null</td><td>null</td><td>null</td><td>null</td><td>null</td></tr><tr><td>I årene 2020-2023 var Haram en del av Ålesund.</td><td>null</td><td>null</td><td>null</td><td>null</td><td>null</td><td>null</td></tr><tr><td>region:</td><td>null</td><td>null</td><td>null</td><td>null</td><td>null</td><td>null</td></tr><tr><td>Trondheim - Tråante:</td><td>null</td><td>null</td><td>null</td><td>null</td><td>null</td><td>null</td></tr><tr><td>Hele tidsserien er beregnet ut fra kommunegrensene fra 2020. Den tidligere kommunen Klæbu er dermed medregnet før 2020.</td><td>null</td><td>null</td><td>null</td><td>null</td><td>null</td><td>null</td></tr><tr><td>region:</td><td>null</td><td>null</td><td>null</td><td>null</td><td>null</td><td>null</td></tr><tr><td>Steinkjer:</td><td>null</td><td>null</td><td>null</td><td>null</td><td>null</td><td>null</td></tr><tr><td>Før 2020 er tall for grunnkrets Verrabotn regnet med under K-5006 Steinkjer. Fra 2020 tilhører grunnkretsen 5054 Indre Fosen.</td><td>null</td><td>null</td><td>null</td><td>null</td><td>null</td><td>null</td></tr><tr><td>region:</td><td>null</td><td>null</td><td>null</td><td>null</td><td>null</td><td>null</td></tr><tr><td>Namsos - Nåavmesjenjaelmie:</td><td>null</td><td>null</td><td>null</td><td>null</td><td>null</td><td>null</td></tr><tr><td>Før 2020 er tall for grunnkrets Lund regnet med under K-5060 Nærøysund. Fra 2020 tilhører grunnkretsen 5007 Namsos.</td><td>null</td><td>null</td><td>null</td><td>null</td><td>null</td><td>null</td></tr><tr><td>region:</td><td>null</td><td>null</td><td>null</td><td>null</td><td>null</td><td>null</td></tr><tr><td>Indre Fosen:</td><td>null</td><td>null</td><td>null</td><td>null</td><td>null</td><td>null</td></tr><tr><td>Før 2020 er tall for grunnkrets Verrabotn regnet med under K-5006 Steinkjer. Fra 2020 tilhører grunnkretsen 5054 Indre Fosen.</td><td>null</td><td>null</td><td>null</td><td>null</td><td>null</td><td>null</td></tr><tr><td>region:</td><td>null</td><td>null</td><td>null</td><td>null</td><td>null</td><td>null</td></tr><tr><td>Heim:</td><td>null</td><td>null</td><td>null</td><td>null</td><td>null</td><td>null</td></tr><tr><td>5012 Snillfjord ble 1.1.2020 delt mellom de nye kommunene 5055 Heim, 5056 Hitra og 5059 Orkland. Denne tabellen viser ikke historiske tall for disse nye kommunene. Tall for 5012 Snillfjord før 2020 finnes under valget 'Alle kommuner'.</td><td>null</td><td>null</td><td>null</td><td>null</td><td>null</td><td>null</td></tr><tr><td>region:</td><td>null</td><td>null</td><td>null</td><td>null</td><td>null</td><td>null</td></tr><tr><td>Hitra:</td><td>null</td><td>null</td><td>null</td><td>null</td><td>null</td><td>null</td></tr><tr><td>5012 Snillfjord ble 1.1.2020 delt mellom de nye kommunene 5055 Heim, 5056 Hitra og 5059 Orkland. Denne tabellen viser ikke historiske tall for disse nye kommunene. Tall for 5012 Snillfjord før 2020 finnes under valget 'Alle kommuner'.</td><td>null</td><td>null</td><td>null</td><td>null</td><td>null</td><td>null</td></tr><tr><td>region:</td><td>null</td><td>null</td><td>null</td><td>null</td><td>null</td><td>null</td></tr><tr><td>Orkland:</td><td>null</td><td>null</td><td>null</td><td>null</td><td>null</td><td>null</td></tr><tr><td>5012 Snillfjord ble 1.1.2020 delt mellom de nye kommunene 5055 Heim, 5056 Hitra og 5059 Orkland. Denne tabellen viser ikke historiske tall for disse nye kommunene. Tall for 5012 Snillfjord før 2020 finnes under valget 'Alle kommuner'.</td><td>null</td><td>null</td><td>null</td><td>null</td><td>null</td><td>null</td></tr><tr><td>region:</td><td>null</td><td>null</td><td>null</td><td>null</td><td>null</td><td>null</td></tr><tr><td>Nærøysund:</td><td>null</td><td>null</td><td>null</td><td>null</td><td>null</td><td>null</td></tr><tr><td>Før 2020 er tall for grunnkrets Lund regnet med under K-5060 Nærøysund. Fra 2020 tilhører grunnkretsen 5007 Namsos.</td><td>null</td><td>null</td><td>null</td><td>null</td><td>null</td><td>null</td></tr><tr><td>region:</td><td>null</td><td>null</td><td>null</td><td>null</td><td>null</td><td>null</td></tr><tr><td>Narvik:</td><td>null</td><td>null</td><td>null</td><td>null</td><td>null</td><td>null</td></tr><tr><td>1850 Tysfjord ble 1.1.2020 delt mellom de nye kommunene 1806 Narvik og 1875 Hamarøy. Denne tabellen viser ikke historiske tall for disse nye kommunene. Tall for 1850 Tysfjord, 1849 Hamarøy, 1854 Ballangen og 1805 Narvik før 2020 finnes under valget 'Alle kommuner'.</td><td>null</td><td>null</td><td>null</td><td>null</td><td>null</td><td>null</td></tr><tr><td>region:</td><td>null</td><td>null</td><td>null</td><td>null</td><td>null</td><td>null</td></tr><tr><td>Hábmer - Hamarøy:</td><td>null</td><td>null</td><td>null</td><td>null</td><td>null</td><td>null</td></tr><tr><td>1850 Tysfjord ble 1.1.2020 delt mellom de nye kommunene 1806 Narvik og 1875 Hamarøy. Denne tabellen viser ikke historiske tall for disse nye kommunene. Tall for 1850 Tysfjord, 1849 Hamarøy, 1854 Ballangen og 1805 Narvik før 2020 finnes under valget 'Alle kommuner'.</td><td>null</td><td>null</td><td>null</td><td>null</td><td>null</td><td>null</td></tr><tr><td>region:</td><td>null</td><td>null</td><td>null</td><td>null</td><td>null</td><td>null</td></tr><tr><td>Delte kommuner og uoppgitt:</td><td>null</td><td>null</td><td>null</td><td>null</td><td>null</td><td>null</td></tr><tr><td>Her inngår kommuner som er blitt splittet, og som derfor kan ikke summeres opp til en av de nåværende kommunene. Bruk knappen 'Velg verdier fra gruppe' om du ønsker å se tall for hver av de delte kommunene.</td><td>null</td><td>null</td><td>null</td><td>null</td><td>null</td><td>null</td></tr><tr><td>Sist endret:</td><td>null</td><td>null</td><td>null</td><td>null</td><td>null</td><td>null</td></tr><tr><td>Personer:</td><td>null</td><td>null</td><td>null</td><td>null</td><td>null</td><td>null</td></tr><tr><td>20250225 08:00</td><td>null</td><td>null</td><td>null</td><td>null</td><td>null</td><td>null</td></tr><tr><td>Kilde:</td><td>null</td><td>null</td><td>null</td><td>null</td><td>null</td><td>null</td></tr><tr><td>Statistisk sentralbyrå</td><td>null</td><td>null</td><td>null</td><td>null</td><td>null</td><td>null</td></tr><tr><td>Kontakt:</td><td>null</td><td>null</td><td>null</td><td>null</td><td>null</td><td>null</td></tr><tr><td>Personer:</td><td>null</td><td>null</td><td>null</td><td>null</td><td>null</td><td>null</td></tr><tr><td>Magnus Haug, Statistisk sentralbyrå</td><td>null</td><td>null</td><td>null</td><td>null</td><td>null</td><td>null</td></tr><tr><td> +47 40811491</td><td>null</td><td>null</td><td>null</td><td>null</td><td>null</td><td>null</td></tr><tr><td>mgh@ssb.no</td><td>null</td><td>null</td><td>null</td><td>null</td><td>null</td><td>null</td></tr><tr><td>Måleenhet:</td><td>null</td><td>null</td><td>null</td><td>null</td><td>null</td><td>null</td></tr><tr><td>Personer:</td><td>null</td><td>null</td><td>null</td><td>null</td><td>null</td><td>null</td></tr><tr><td>antall</td><td>null</td><td>null</td><td>null</td><td>null</td><td>null</td><td>null</td></tr><tr><td>Målemetode:</td><td>null</td><td>null</td><td>null</td><td>null</td><td>null</td><td>null</td></tr><tr><td>Personer:</td><td>null</td><td>null</td><td>null</td><td>null</td><td>null</td><td>null</td></tr><tr><td>Situasjon (tidspunkt)</td><td>null</td><td>null</td><td>null</td><td>null</td><td>null</td><td>null</td></tr><tr><td>Referansetid:</td><td>null</td><td>null</td><td>null</td><td>null</td><td>null</td><td>null</td></tr><tr><td>Personer</td><td>null</td><td>null</td><td>null</td><td>null</td><td>null</td><td>null</td></tr><tr><td>1.1.</td><td>null</td><td>null</td><td>null</td><td>null</td><td>null</td><td>null</td></tr><tr><td>Offisiell statistikk</td><td>null</td><td>null</td><td>null</td><td>null</td><td>null</td><td>null</td></tr><tr><td>Database:</td><td>null</td><td>null</td><td>null</td><td>null</td><td>null</td><td>null</td></tr><tr><td>Ekstern PRODUKSJON</td><td>null</td><td>null</td><td>null</td><td>null</td><td>null</td><td>null</td></tr><tr><td>Intern referansekode:</td><td>null</td><td>null</td><td>null</td><td>null</td><td>null</td><td>null</td></tr><tr><td>Personer1</td><td>null</td><td>null</td><td>null</td><td>null</td><td>null</td><td>null</td></tr></tbody></table></div>"
      ]
     },
     "metadata": {
      "application/vnd.databricks.v1+output": {
       "addedWidgets": {},
       "aggData": [],
       "aggError": "",
       "aggOverflow": false,
       "aggSchema": [],
       "aggSeriesLimitReached": false,
       "aggType": "",
       "arguments": {},
       "columnCustomDisplayInfos": {},
       "data": [
        [
         "K-3116 Skiptvet",
         "Kvinner",
         "0 år",
         8.0,
         17.0,
         11.0,
         14.0
        ],
        [
         "K-3118 Indre Østfold",
         "Kvinner",
         "0 år",
         195.0,
         199.0,
         205.0,
         211.0
        ],
        [
         "K-3120 Rakkestad",
         "Kvinner",
         "0 år",
         39.0,
         32.0,
         35.0,
         53.0
        ],
        [
         "K-3122 Marker",
         "Kvinner",
         "0 år",
         12.0,
         19.0,
         16.0,
         11.0
        ],
        [
         "K-3124 Aremark",
         "Kvinner",
         "0 år",
         9.0,
         4.0,
         9.0,
         6.0
        ],
        [
         "K-3201 Bærum",
         "Kvinner",
         "0 år",
         668.0,
         581.0,
         607.0,
         659.0
        ],
        [
         "K-3203 Asker",
         "Kvinner",
         "0 år",
         472.0,
         430.0,
         413.0,
         431.0
        ],
        [
         "K-3205 Lillestrøm",
         "Kvinner",
         "0 år",
         464.0,
         438.0,
         443.0,
         478.0
        ],
        [
         "K-3207 Nordre Follo",
         "Kvinner",
         "0 år",
         315.0,
         311.0,
         276.0,
         324.0
        ],
        [
         "K-3209 Ullensaker",
         "Kvinner",
         "0 år",
         225.0,
         219.0,
         210.0,
         218.0
        ],
        [
         "K-3212 Nesodden",
         "Kvinner",
         "0 år",
         93.0,
         89.0,
         73.0,
         98.0
        ],
        [
         "K-3214 Frogn",
         "Kvinner",
         "0 år",
         57.0,
         42.0,
         56.0,
         57.0
        ],
        [
         "K-3216 Vestby",
         "Kvinner",
         "0 år",
         94.0,
         105.0,
         83.0,
         91.0
        ],
        [
         "K-3218 Ås",
         "Kvinner",
         "0 år",
         107.0,
         102.0,
         90.0,
         109.0
        ],
        [
         "K-3220 Enebakk",
         "Kvinner",
         "0 år",
         55.0,
         42.0,
         51.0,
         51.0
        ],
        [
         "K-3222 Lørenskog",
         "Kvinner",
         "0 år",
         286.0,
         263.0,
         256.0,
         302.0
        ],
        [
         "K-3224 Rælingen",
         "Kvinner",
         "0 år",
         110.0,
         104.0,
         103.0,
         120.0
        ],
        [
         "K-3226 Aurskog-Høland",
         "Kvinner",
         "0 år",
         70.0,
         70.0,
         59.0,
         82.0
        ],
        [
         "K-3228 Nes",
         "Kvinner",
         "0 år",
         108.0,
         109.0,
         111.0,
         123.0
        ],
        [
         "K-3230 Gjerdrum",
         "Kvinner",
         "0 år",
         25.0,
         35.0,
         31.0,
         30.0
        ],
        [
         "K-3232 Nittedal",
         "Kvinner",
         "0 år",
         130.0,
         104.0,
         110.0,
         121.0
        ],
        [
         "K-3234 Lunner",
         "Kvinner",
         "0 år",
         39.0,
         41.0,
         38.0,
         35.0
        ],
        [
         "K-3236 Jevnaker",
         "Kvinner",
         "0 år",
         24.0,
         35.0,
         21.0,
         38.0
        ],
        [
         "K-3238 Nannestad",
         "Kvinner",
         "0 år",
         94.0,
         76.0,
         105.0,
         89.0
        ],
        [
         "K-3240 Eidsvoll",
         "Kvinner",
         "0 år",
         141.0,
         134.0,
         146.0,
         135.0
        ],
        [
         "K-3242 Hurdal",
         "Kvinner",
         "0 år",
         21.0,
         7.0,
         12.0,
         14.0
        ],
        [
         "K-0301 Oslo",
         "Kvinner",
         "0 år",
         4557.0,
         3948.0,
         4114.0,
         4359.0
        ],
        [
         "K-3301 Drammen",
         "Kvinner",
         "0 år",
         496.0,
         447.0,
         491.0,
         486.0
        ],
        [
         "K-3303 Kongsberg",
         "Kvinner",
         "0 år",
         106.0,
         95.0,
         112.0,
         104.0
        ],
        [
         "K-3305 Ringerike",
         "Kvinner",
         "0 år",
         128.0,
         137.0,
         125.0,
         135.0
        ],
        [
         "K-3310 Hole",
         "Kvinner",
         "0 år",
         29.0,
         36.0,
         23.0,
         26.0
        ],
        [
         "K-3312 Lier",
         "Kvinner",
         "0 år",
         138.0,
         125.0,
         128.0,
         120.0
        ],
        [
         "K-3314 Øvre Eiker",
         "Kvinner",
         "0 år",
         106.0,
         98.0,
         97.0,
         102.0
        ],
        [
         "K-3316 Modum",
         "Kvinner",
         "0 år",
         51.0,
         64.0,
         68.0,
         65.0
        ],
        [
         "K-3318 Krødsherad",
         "Kvinner",
         "0 år",
         4.0,
         7.0,
         7.0,
         4.0
        ],
        [
         "K-3320 Flå",
         "Kvinner",
         "0 år",
         9.0,
         3.0,
         4.0,
         2.0
        ],
        [
         "K-3322 Nesbyen",
         "Kvinner",
         "0 år",
         20.0,
         13.0,
         13.0,
         12.0
        ],
        [
         "K-3324 Gol",
         "Kvinner",
         "0 år",
         17.0,
         22.0,
         20.0,
         18.0
        ],
        [
         "K-3326 Hemsedal",
         "Kvinner",
         "0 år",
         13.0,
         16.0,
         12.0,
         8.0
        ],
        [
         "K-3328 Ål",
         "Kvinner",
         "0 år",
         17.0,
         20.0,
         24.0,
         14.0
        ],
        [
         "K-3330 Hol",
         "Kvinner",
         "0 år",
         20.0,
         12.0,
         17.0,
         17.0
        ],
        [
         "K-3332 Sigdal",
         "Kvinner",
         "0 år",
         9.0,
         6.0,
         12.0,
         12.0
        ],
        [
         "K-3334 Flesberg",
         "Kvinner",
         "0 år",
         16.0,
         11.0,
         14.0,
         13.0
        ],
        [
         "K-3336 Rollag",
         "Kvinner",
         "0 år",
         4.0,
         3.0,
         7.0,
         2.0
        ],
        [
         "K-3338 Nore og Uvdal",
         "Kvinner",
         "0 år",
         12.0,
         4.0,
         12.0,
         9.0
        ],
        [
         "K-3401 Kongsvinger",
         "Kvinner",
         "0 år",
         55.0,
         74.0,
         62.0,
         64.0
        ],
        [
         "K-3403 Hamar",
         "Kvinner",
         "0 år",
         159.0,
         134.0,
         136.0,
         113.0
        ],
        [
         "K-3405 Lillehammer",
         "Kvinner",
         "0 år",
         114.0,
         119.0,
         103.0,
         130.0
        ],
        [
         "K-3407 Gjøvik",
         "Kvinner",
         "0 år",
         116.0,
         120.0,
         115.0,
         123.0
        ],
        [
         "K-3411 Ringsaker",
         "Kvinner",
         "0 år",
         148.0,
         146.0,
         155.0,
         142.0
        ],
        [
         "K-3412 Løten",
         "Kvinner",
         "0 år",
         37.0,
         35.0,
         37.0,
         31.0
        ],
        [
         "K-3413 Stange",
         "Kvinner",
         "0 år",
         103.0,
         95.0,
         108.0,
         94.0
        ],
        [
         "K-3414 Nord-Odal",
         "Kvinner",
         "0 år",
         13.0,
         15.0,
         18.0,
         20.0
        ],
        [
         "K-3415 Sør-Odal",
         "Kvinner",
         "0 år",
         49.0,
         29.0,
         29.0,
         33.0
        ],
        [
         "K-3416 Eidskog",
         "Kvinner",
         "0 år",
         29.0,
         17.0,
         17.0,
         27.0
        ],
        [
         "K-3417 Grue",
         "Kvinner",
         "0 år",
         21.0,
         11.0,
         8.0,
         18.0
        ],
        [
         "K-3418 Åsnes",
         "Kvinner",
         "0 år",
         26.0,
         17.0,
         21.0,
         19.0
        ],
        [
         "K-3419 Våler (Innlandet)",
         "Kvinner",
         "0 år",
         11.0,
         12.0,
         18.0,
         9.0
        ],
        [
         "K-3420 Elverum",
         "Kvinner",
         "0 år",
         94.0,
         91.0,
         85.0,
         91.0
        ],
        [
         "K-3421 Trysil",
         "Kvinner",
         "0 år",
         20.0,
         31.0,
         19.0,
         23.0
        ],
        [
         "K-3422 Åmot",
         "Kvinner",
         "0 år",
         13.0,
         16.0,
         11.0,
         18.0
        ],
        [
         "K-3423 Stor-Elvdal",
         "Kvinner",
         "0 år",
         5.0,
         4.0,
         10.0,
         6.0
        ],
        [
         "K-3424 Rendalen",
         "Kvinner",
         "0 år",
         5.0,
         4.0,
         3.0,
         8.0
        ],
        [
         "K-3425 Engerdal",
         "Kvinner",
         "0 år",
         2.0,
         3.0,
         4.0,
         1.0
        ],
        [
         "K-3426 Tolga",
         "Kvinner",
         "0 år",
         6.0,
         4.0,
         13.0,
         4.0
        ],
        [
         "K-3427 Tynset",
         "Kvinner",
         "0 år",
         25.0,
         27.0,
         32.0,
         28.0
        ],
        [
         "K-3428 Alvdal",
         "Kvinner",
         "0 år",
         9.0,
         10.0,
         8.0,
         15.0
        ],
        [
         "K-3429 Folldal",
         "Kvinner",
         "0 år",
         7.0,
         8.0,
         9.0,
         2.0
        ],
        [
         "K-3430 Os",
         "Kvinner",
         "0 år",
         14.0,
         6.0,
         11.0,
         8.0
        ],
        [
         "K-3431 Dovre",
         "Kvinner",
         "0 år",
         12.0,
         7.0,
         13.0,
         2.0
        ],
        [
         "K-3432 Lesja",
         "Kvinner",
         "0 år",
         7.0,
         5.0,
         3.0,
         10.0
        ],
        [
         "K-3433 Skjåk",
         "Kvinner",
         "0 år",
         8.0,
         10.0,
         6.0,
         14.0
        ],
        [
         "K-3434 Lom",
         "Kvinner",
         "0 år",
         11.0,
         8.0,
         9.0,
         9.0
        ],
        [
         "K-3435 Vågå",
         "Kvinner",
         "0 år",
         15.0,
         10.0,
         15.0,
         13.0
        ],
        [
         "K-3436 Nord-Fron",
         "Kvinner",
         "0 år",
         22.0,
         11.0,
         19.0,
         13.0
        ],
        [
         "K-3437 Sel",
         "Kvinner",
         "0 år",
         15.0,
         19.0,
         18.0,
         27.0
        ],
        [
         "K-3438 Sør-Fron",
         "Kvinner",
         "0 år",
         15.0,
         7.0,
         6.0,
         15.0
        ],
        [
         "K-3439 Ringebu",
         "Kvinner",
         "0 år",
         26.0,
         22.0,
         19.0,
         17.0
        ],
        [
         "K-3440 Øyer",
         "Kvinner",
         "0 år",
         22.0,
         29.0,
         19.0,
         18.0
        ],
        [
         "K-3441 Gausdal",
         "Kvinner",
         "0 år",
         18.0,
         33.0,
         28.0,
         34.0
        ],
        [
         "K-3442 Østre Toten",
         "Kvinner",
         "0 år",
         56.0,
         60.0,
         68.0,
         41.0
        ],
        [
         "K-3443 Vestre Toten",
         "Kvinner",
         "0 år",
         49.0,
         60.0,
         52.0,
         50.0
        ],
        [
         "K-3446 Gran",
         "Kvinner",
         "0 år",
         51.0,
         43.0,
         42.0,
         52.0
        ],
        [
         "K-3447 Søndre Land",
         "Kvinner",
         "0 år",
         18.0,
         25.0,
         29.0,
         16.0
        ],
        [
         "K-3448 Nordre Land",
         "Kvinner",
         "0 år",
         28.0,
         19.0,
         24.0,
         20.0
        ],
        [
         "K-3449 Sør-Aurdal",
         "Kvinner",
         "0 år",
         8.0,
         12.0,
         7.0,
         13.0
        ],
        [
         "K-3450 Etnedal",
         "Kvinner",
         "0 år",
         6.0,
         4.0,
         6.0,
         2.0
        ],
        [
         "K-3451 Nord-Aurdal",
         "Kvinner",
         "0 år",
         23.0,
         33.0,
         23.0,
         33.0
        ],
        [
         "K-3452 Vestre Slidre",
         "Kvinner",
         "0 år",
         7.0,
         7.0,
         13.0,
         13.0
        ],
        [
         "K-3453 Øystre Slidre",
         "Kvinner",
         "0 år",
         9.0,
         16.0,
         8.0,
         13.0
        ],
        [
         "K-3454 Vang",
         "Kvinner",
         "0 år",
         5.0,
         8.0,
         5.0,
         5.0
        ],
        [
         "K-3901 Horten",
         "Kvinner",
         "0 år",
         118.0,
         97.0,
         105.0,
         99.0
        ],
        [
         "K-3903 Holmestrand",
         "Kvinner",
         "0 år",
         102.0,
         119.0,
         134.0,
         119.0
        ],
        [
         "K-3905 Tønsberg",
         "Kvinner",
         "0 år",
         272.0,
         240.0,
         238.0,
         256.0
        ],
        [
         "K-3907 Sandefjord",
         "Kvinner",
         "0 år",
         274.0,
         262.0,
         286.0,
         250.0
        ],
        [
         "K-3909 Larvik",
         "Kvinner",
         "0 år",
         194.0,
         192.0,
         181.0,
         185.0
        ],
        [
         "K-3911 Færder",
         "Kvinner",
         "0 år",
         107.0,
         100.0,
         92.0,
         108.0
        ],
        [
         "K-4001 Porsgrunn",
         "Kvinner",
         "0 år",
         121.0,
         132.0,
         156.0,
         141.0
        ],
        [
         "K-4003 Skien",
         "Kvinner",
         "0 år",
         260.0,
         228.0,
         239.0,
         237.0
        ],
        [
         "K-4005 Notodden",
         "Kvinner",
         "0 år",
         53.0,
         53.0,
         51.0,
         61.0
        ],
        [
         "K-4010 Siljan",
         "Kvinner",
         "0 år",
         9.0,
         13.0,
         11.0,
         17.0
        ],
        [
         "K-4012 Bamble",
         "Kvinner",
         "0 år",
         57.0,
         57.0,
         54.0,
         57.0
        ],
        [
         "K-4014 Kragerø",
         "Kvinner",
         "0 år",
         31.0,
         36.0,
         41.0,
         42.0
        ],
        [
         "K-4016 Drangedal",
         "Kvinner",
         "0 år",
         14.0,
         23.0,
         20.0,
         13.0
        ],
        [
         "K-4018 Nome",
         "Kvinner",
         "0 år",
         21.0,
         19.0,
         20.0,
         23.0
        ],
        [
         "K-4020 Midt-Telemark",
         "Kvinner",
         "0 år",
         40.0,
         41.0,
         50.0,
         48.0
        ],
        [
         "K-4022 Seljord",
         "Kvinner",
         "0 år",
         8.0,
         11.0,
         12.0,
         11.0
        ],
        [
         "K-4024 Hjartdal",
         "Kvinner",
         "0 år",
         5.0,
         11.0,
         3.0,
         9.0
        ],
        [
         "K-4026 Tinn",
         "Kvinner",
         "0 år",
         20.0,
         13.0,
         15.0,
         11.0
        ],
        [
         "K-4028 Kviteseid",
         "Kvinner",
         "0 år",
         9.0,
         4.0,
         9.0,
         13.0
        ],
        [
         "K-4030 Nissedal",
         "Kvinner",
         "0 år",
         4.0,
         5.0,
         6.0,
         8.0
        ],
        [
         "K-4032 Fyresdal",
         "Kvinner",
         "0 år",
         4.0,
         5.0,
         1.0,
         5.0
        ],
        [
         "K-4034 Tokke",
         "Kvinner",
         "0 år",
         9.0,
         6.0,
         15.0,
         7.0
        ],
        [
         "K-4036 Vinje",
         "Kvinner",
         "0 år",
         16.0,
         12.0,
         17.0,
         15.0
        ],
        [
         "K-4201 Risør",
         "Kvinner",
         "0 år",
         23.0,
         27.0,
         20.0,
         19.0
        ],
        [
         "K-4202 Grimstad",
         "Kvinner",
         "0 år",
         113.0,
         135.0,
         127.0,
         129.0
        ],
        [
         "K-4203 Arendal",
         "Kvinner",
         "0 år",
         182.0,
         198.0,
         178.0,
         183.0
        ],
        [
         "K-4204 Kristiansand",
         "Kvinner",
         "0 år",
         603.0,
         546.0,
         555.0,
         573.0
        ],
        [
         "K-4205 Lindesnes",
         "Kvinner",
         "0 år",
         106.0,
         96.0,
         92.0,
         115.0
        ],
        [
         "K-4206 Farsund",
         "Kvinner",
         "0 år",
         47.0,
         39.0,
         41.0,
         47.0
        ],
        [
         "K-4207 Flekkefjord",
         "Kvinner",
         "0 år",
         49.0,
         45.0,
         46.0,
         52.0
        ],
        [
         "K-4211 Gjerstad",
         "Kvinner",
         "0 år",
         10.0,
         9.0,
         4.0,
         11.0
        ],
        [
         "K-4212 Vegårshei",
         "Kvinner",
         "0 år",
         13.0,
         8.0,
         9.0,
         8.0
        ],
        [
         "K-4213 Tvedestrand",
         "Kvinner",
         "0 år",
         32.0,
         19.0,
         22.0,
         23.0
        ],
        [
         "K-4214 Froland",
         "Kvinner",
         "0 år",
         25.0,
         33.0,
         27.0,
         25.0
        ],
        [
         "K-4215 Lillesand",
         "Kvinner",
         "0 år",
         47.0,
         58.0,
         50.0,
         51.0
        ],
        [
         "K-4216 Birkenes",
         "Kvinner",
         "0 år",
         22.0,
         21.0,
         30.0,
         15.0
        ],
        [
         "K-4217 Åmli",
         "Kvinner",
         "0 år",
         11.0,
         5.0,
         5.0,
         3.0
        ],
        [
         "K-4218 Iveland",
         "Kvinner",
         "0 år",
         3.0,
         12.0,
         10.0,
         6.0
        ],
        [
         "K-4219 Evje og Hornnes",
         "Kvinner",
         "0 år",
         19.0,
         22.0,
         21.0,
         23.0
        ],
        [
         "K-4220 Bygland",
         "Kvinner",
         "0 år",
         4.0,
         4.0,
         6.0,
         4.0
        ],
        [
         "K-4221 Valle",
         "Kvinner",
         "0 år",
         6.0,
         5.0,
         6.0,
         2.0
        ],
        [
         "K-4222 Bykle",
         "Kvinner",
         "0 år",
         2.0,
         6.0,
         5.0,
         5.0
        ],
        [
         "K-4223 Vennesla",
         "Kvinner",
         "0 år",
         93.0,
         67.0,
         81.0,
         63.0
        ],
        [
         "K-4224 Åseral",
         "Kvinner",
         "0 år",
         6.0,
         2.0,
         3.0,
         4.0
        ],
        [
         "K-4225 Lyngdal",
         "Kvinner",
         "0 år",
         53.0,
         55.0,
         46.0,
         63.0
        ],
        [
         "K-4226 Hægebostad",
         "Kvinner",
         "0 år",
         9.0,
         7.0,
         5.0,
         6.0
        ],
        [
         "K-4227 Kvinesdal",
         "Kvinner",
         "0 år",
         20.0,
         30.0,
         27.0,
         24.0
        ],
        [
         "K-4228 Sirdal",
         "Kvinner",
         "0 år",
         7.0,
         7.0,
         7.0,
         8.0
        ],
        [
         "K-1101 Eigersund",
         "Kvinner",
         "0 år",
         73.0,
         83.0,
         69.0,
         79.0
        ],
        [
         "K-1103 Stavanger",
         "Kvinner",
         "0 år",
         763.0,
         690.0,
         709.0,
         692.0
        ],
        [
         "K-1106 Haugesund",
         "Kvinner",
         "0 år",
         184.0,
         171.0,
         192.0,
         174.0
        ],
        [
         "K-1108 Sandnes",
         "Kvinner",
         "0 år",
         470.0,
         450.0,
         467.0,
         448.0
        ],
        [
         "K-1111 Sokndal",
         "Kvinner",
         "0 år",
         18.0,
         19.0,
         23.0,
         15.0
        ],
        [
         "K-1112 Lund",
         "Kvinner",
         "0 år",
         24.0,
         14.0,
         16.0,
         19.0
        ],
        [
         "K-1114 Bjerkreim",
         "Kvinner",
         "0 år",
         9.0,
         9.0,
         14.0,
         13.0
        ],
        [
         "K-1119 Hå",
         "Kvinner",
         "0 år",
         108.0,
         130.0,
         127.0,
         124.0
        ],
        [
         "K-1120 Klepp",
         "Kvinner",
         "0 år",
         128.0,
         127.0,
         111.0,
         123.0
        ],
        [
         "K-1121 Time",
         "Kvinner",
         "0 år",
         124.0,
         98.0,
         104.0,
         114.0
        ],
        [
         "K-1122 Gjesdal",
         "Kvinner",
         "0 år",
         58.0,
         55.0,
         61.0,
         63.0
        ],
        [
         "K-1124 Sola",
         "Kvinner",
         "0 år",
         151.0,
         156.0,
         149.0,
         152.0
        ],
        [
         "K-1127 Randaberg",
         "Kvinner",
         "0 år",
         72.0,
         65.0,
         54.0,
         63.0
        ],
        [
         "K-1130 Strand",
         "Kvinner",
         "0 år",
         82.0,
         67.0,
         61.0,
         87.0
        ],
        [
         "K-1133 Hjelmeland",
         "Kvinner",
         "0 år",
         10.0,
         9.0,
         14.0,
         12.0
        ],
        [
         "K-1134 Suldal",
         "Kvinner",
         "0 år",
         19.0,
         20.0,
         16.0,
         15.0
        ],
        [
         "K-1135 Sauda",
         "Kvinner",
         "0 år",
         24.0,
         23.0,
         17.0,
         21.0
        ],
        [
         "K-1144 Kvitsøy",
         "Kvinner",
         "0 år",
         2.0,
         0.0,
         3.0,
         3.0
        ],
        [
         "K-1145 Bokn",
         "Kvinner",
         "0 år",
         5.0,
         4.0,
         5.0,
         5.0
        ],
        [
         "K-1146 Tysvær",
         "Kvinner",
         "0 år",
         67.0,
         59.0,
         59.0,
         66.0
        ],
        [
         "K-1149 Karmøy",
         "Kvinner",
         "0 år",
         249.0,
         212.0,
         224.0,
         230.0
        ],
        [
         "K-1151 Utsira",
         "Kvinner",
         "0 år",
         0.0,
         0.0,
         1.0,
         0.0
        ],
        [
         "K-1160 Vindafjord",
         "Kvinner",
         "0 år",
         40.0,
         58.0,
         50.0,
         53.0
        ],
        [
         "K-4601 Bergen",
         "Kvinner",
         "0 år",
         1530.0,
         1444.0,
         1388.0,
         1431.0
        ],
        [
         "K-4602 Kinn",
         "Kvinner",
         "0 år",
         76.0,
         69.0,
         72.0,
         75.0
        ],
        [
         "K-4611 Etne",
         "Kvinner",
         "0 år",
         21.0,
         27.0,
         15.0,
         21.0
        ],
        [
         "K-4612 Sveio",
         "Kvinner",
         "0 år",
         20.0,
         23.0,
         28.0,
         28.0
        ],
        [
         "K-4613 Bømlo",
         "Kvinner",
         "0 år",
         55.0,
         39.0,
         65.0,
         57.0
        ],
        [
         "K-4614 Stord",
         "Kvinner",
         "0 år",
         90.0,
         80.0,
         87.0,
         70.0
        ],
        [
         "K-4615 Fitjar",
         "Kvinner",
         "0 år",
         10.0,
         18.0,
         15.0,
         20.0
        ],
        [
         "K-4616 Tysnes",
         "Kvinner",
         "0 år",
         10.0,
         20.0,
         7.0,
         10.0
        ],
        [
         "K-4617 Kvinnherad",
         "Kvinner",
         "0 år",
         74.0,
         60.0,
         48.0,
         65.0
        ],
        [
         "K-4618 Ullensvang",
         "Kvinner",
         "0 år",
         50.0,
         49.0,
         43.0,
         53.0
        ],
        [
         "K-4619 Eidfjord",
         "Kvinner",
         "0 år",
         8.0,
         2.0,
         6.0,
         4.0
        ],
        [
         "K-4620 Ulvik",
         "Kvinner",
         "0 år",
         4.0,
         7.0,
         5.0,
         3.0
        ],
        [
         "K-4621 Voss",
         "Kvinner",
         "0 år",
         63.0,
         89.0,
         83.0,
         81.0
        ],
        [
         "K-4622 Kvam",
         "Kvinner",
         "0 år",
         41.0,
         46.0,
         33.0,
         29.0
        ],
        [
         "K-4623 Samnanger",
         "Kvinner",
         "0 år",
         10.0,
         9.0,
         16.0,
         7.0
        ],
        [
         "K-4624 Bjørnafjorden",
         "Kvinner",
         "0 år",
         139.0,
         127.0,
         145.0,
         135.0
        ],
        [
         "K-4625 Austevoll",
         "Kvinner",
         "0 år",
         22.0,
         25.0,
         19.0,
         18.0
        ],
        [
         "K-4626 Øygarden",
         "Kvinner",
         "0 år",
         249.0,
         179.0,
         179.0,
         187.0
        ],
        [
         "K-4627 Askøy",
         "Kvinner",
         "0 år",
         159.0,
         164.0,
         143.0,
         146.0
        ],
        [
         "K-4628 Vaksdal",
         "Kvinner",
         "0 år",
         15.0,
         9.0,
         12.0,
         13.0
        ],
        [
         "K-4629 Modalen",
         "Kvinner",
         "0 år",
         3.0,
         0.0,
         3.0,
         1.0
        ],
        [
         "K-4630 Osterøy",
         "Kvinner",
         "0 år",
         45.0,
         45.0,
         40.0,
         34.0
        ],
        [
         "K-4631 Alver",
         "Kvinner",
         "0 år",
         157.0,
         147.0,
         139.0,
         121.0
        ],
        [
         "K-4632 Austrheim",
         "Kvinner",
         "0 år",
         11.0,
         14.0,
         12.0,
         6.0
        ],
        [
         "K-4633 Fedje",
         "Kvinner",
         "0 år",
         1.0,
         2.0,
         2.0,
         2.0
        ],
        [
         "K-4634 Masfjorden",
         "Kvinner",
         "0 år",
         5.0,
         10.0,
         2.0,
         9.0
        ],
        [
         "K-4635 Gulen",
         "Kvinner",
         "0 år",
         11.0,
         9.0,
         6.0,
         9.0
        ],
        [
         "K-4636 Solund",
         "Kvinner",
         "0 år",
         2.0,
         1.0,
         4.0,
         1.0
        ],
        [
         "K-4637 Hyllestad",
         "Kvinner",
         "0 år",
         3.0,
         2.0,
         5.0,
         8.0
        ],
        [
         "K-4638 Høyanger",
         "Kvinner",
         "0 år",
         12.0,
         17.0,
         12.0,
         9.0
        ],
        [
         "K-4639 Vik",
         "Kvinner",
         "0 år",
         9.0,
         13.0,
         13.0,
         13.0
        ],
        [
         "K-4640 Sogndal",
         "Kvinner",
         "0 år",
         82.0,
         61.0,
         56.0,
         81.0
        ],
        [
         "K-4641 Aurland",
         "Kvinner",
         "0 år",
         9.0,
         6.0,
         9.0,
         11.0
        ],
        [
         "K-4642 Lærdal",
         "Kvinner",
         "0 år",
         4.0,
         10.0,
         13.0,
         8.0
        ],
        [
         "K-4643 Årdal",
         "Kvinner",
         "0 år",
         20.0,
         16.0,
         21.0,
         20.0
        ],
        [
         "K-4644 Luster",
         "Kvinner",
         "0 år",
         28.0,
         26.0,
         28.0,
         21.0
        ],
        [
         "K-4645 Askvoll",
         "Kvinner",
         "0 år",
         13.0,
         5.0,
         10.0,
         11.0
        ],
        [
         "K-4646 Fjaler",
         "Kvinner",
         "0 år",
         17.0,
         13.0,
         7.0,
         17.0
        ],
        [
         "K-4647 Sunnfjord",
         "Kvinner",
         "0 år",
         120.0,
         111.0,
         102.0,
         111.0
        ],
        [
         "K-4648 Bremanger",
         "Kvinner",
         "0 år",
         12.0,
         10.0,
         8.0,
         11.0
        ],
        [
         "K-4649 Stad",
         "Kvinner",
         "0 år",
         54.0,
         43.0,
         40.0,
         47.0
        ],
        [
         "K-4650 Gloppen",
         "Kvinner",
         "0 år",
         30.0,
         28.0,
         19.0,
         25.0
        ],
        [
         "K-4651 Stryn",
         "Kvinner",
         "0 år",
         34.0,
         30.0,
         35.0,
         34.0
        ],
        [
         "K-1505 Kristiansund",
         "Kvinner",
         "0 år",
         101.0,
         90.0,
         91.0,
         100.0
        ],
        [
         "K-1506 Molde",
         "Kvinner",
         "0 år",
         157.0,
         131.0,
         147.0,
         153.0
        ],
        [
         "K-1508 Ålesund",
         "Kvinner",
         "0 år",
         358.0,
         342.0,
         286.0,
         277.0
        ],
        [
         "K-1511 Vanylven",
         "Kvinner",
         "0 år",
         12.0,
         8.0,
         7.0,
         11.0
        ],
        [
         "K-1514 Sande (Møre og Romsdal)",
         "Kvinner",
         "0 år",
         20.0,
         7.0,
         12.0,
         10.0
        ],
        [
         "K-1515 Herøy (Møre og Romsdal)",
         "Kvinner",
         "0 år",
         40.0,
         41.0,
         47.0,
         43.0
        ],
        [
         "K-1516 Ulstein",
         "Kvinner",
         "0 år",
         49.0,
         44.0,
         43.0,
         37.0
        ],
        [
         "K-1517 Hareid",
         "Kvinner",
         "0 år",
         29.0,
         13.0,
         23.0,
         16.0
        ],
        [
         "K-1520 Ørsta",
         "Kvinner",
         "0 år",
         47.0,
         54.0,
         57.0,
         50.0
        ],
        [
         "K-1525 Stranda",
         "Kvinner",
         "0 år",
         13.0,
         15.0,
         11.0,
         18.0
        ],
        [
         "K-1528 Sykkylven",
         "Kvinner",
         "0 år",
         26.0,
         28.0,
         30.0,
         24.0
        ],
        [
         "K-1531 Sula",
         "Kvinner",
         "0 år",
         57.0,
         54.0,
         52.0,
         52.0
        ],
        [
         "K-1532 Giske",
         "Kvinner",
         "0 år",
         73.0,
         44.0,
         44.0,
         47.0
        ],
        [
         "K-1535 Vestnes",
         "Kvinner",
         "0 år",
         31.0,
         19.0,
         32.0,
         42.0
        ],
        [
         "K-1539 Rauma",
         "Kvinner",
         "0 år",
         25.0,
         32.0,
         24.0,
         34.0
        ],
        [
         "K-1547 Aukra",
         "Kvinner",
         "0 år",
         14.0,
         9.0,
         17.0,
         21.0
        ],
        [
         "K-1554 Averøy",
         "Kvinner",
         "0 år",
         24.0,
         26.0,
         21.0,
         26.0
        ],
        [
         "K-1557 Gjemnes",
         "Kvinner",
         "0 år",
         18.0,
         7.0,
         9.0,
         12.0
        ],
        [
         "K-1560 Tingvoll",
         "Kvinner",
         "0 år",
         17.0,
         14.0,
         10.0,
         12.0
        ],
        [
         "K-1563 Sunndal",
         "Kvinner",
         "0 år",
         26.0,
         24.0,
         28.0,
         22.0
        ],
        [
         "K-1566 Surnadal",
         "Kvinner",
         "0 år",
         31.0,
         28.0,
         29.0,
         25.0
        ],
        [
         "K-1573 Smøla",
         "Kvinner",
         "0 år",
         14.0,
         5.0,
         8.0,
         8.0
        ],
        [
         "K-1576 Aure",
         "Kvinner",
         "0 år",
         10.0,
         12.0,
         12.0,
         6.0
        ],
        [
         "K-1577 Volda",
         "Kvinner",
         "0 år",
         66.0,
         47.0,
         48.0,
         55.0
        ],
        [
         "K-1578 Fjord",
         "Kvinner",
         "0 år",
         6.0,
         7.0,
         8.0,
         11.0
        ],
        [
         "K-1579 Hustadvika",
         "Kvinner",
         "0 år",
         69.0,
         62.0,
         72.0,
         54.0
        ],
        [
         "K-1580 Haram",
         "Kvinner",
         "0 år",
         0.0,
         0.0,
         38.0,
         39.0
        ],
        [
         "K-5001 Trondheim - Tråante",
         "Kvinner",
         "0 år",
         1166.0,
         1011.0,
         988.0,
         1018.0
        ],
        [
         "K-5006 Steinkjer",
         "Kvinner",
         "0 år",
         106.0,
         91.0,
         88.0,
         106.0
        ],
        [
         "K-5007 Namsos - Nåavmesjenjaelmie",
         "Kvinner",
         "0 år",
         65.0,
         73.0,
         79.0,
         63.0
        ],
        [
         "K-5014 Frøya",
         "Kvinner",
         "0 år",
         29.0,
         28.0,
         22.0,
         30.0
        ],
        [
         "K-5020 Osen",
         "Kvinner",
         "0 år",
         5.0,
         2.0,
         3.0,
         3.0
        ],
        [
         "K-5021 Oppdal",
         "Kvinner",
         "0 år",
         37.0,
         30.0,
         34.0,
         30.0
        ],
        [
         "K-5022 Rennebu",
         "Kvinner",
         "0 år",
         10.0,
         16.0,
         11.0,
         8.0
        ],
        [
         "K-5025 Røros - Rosse",
         "Kvinner",
         "0 år",
         29.0,
         18.0,
         19.0,
         28.0
        ],
        [
         "K-5026 Holtålen",
         "Kvinner",
         "0 år",
         7.0,
         15.0,
         13.0,
         11.0
        ],
        [
         "K-5027 Midtre Gauldal",
         "Kvinner",
         "0 år",
         38.0,
         34.0,
         30.0,
         28.0
        ],
        [
         "K-5028 Melhus",
         "Kvinner",
         "0 år",
         92.0,
         75.0,
         85.0,
         101.0
        ],
        [
         "K-5029 Skaun",
         "Kvinner",
         "0 år",
         42.0,
         42.0,
         33.0,
         45.0
        ],
        [
         "K-5031 Malvik",
         "Kvinner",
         "0 år",
         79.0,
         64.0,
         64.0,
         80.0
        ],
        [
         "K-5032 Selbu",
         "Kvinner",
         "0 år",
         23.0,
         19.0,
         20.0,
         19.0
        ],
        [
         "K-5033 Tydal",
         "Kvinner",
         "0 år",
         1.0,
         1.0,
         3.0,
         1.0
        ],
        [
         "K-5034 Meråker",
         "Kvinner",
         "0 år",
         3.0,
         6.0,
         12.0,
         8.0
        ],
        [
         "K-5035 Stjørdal",
         "Kvinner",
         "0 år",
         124.0,
         118.0,
         92.0,
         106.0
        ],
        [
         "K-5036 Frosta",
         "Kvinner",
         "0 år",
         13.0,
         13.0,
         14.0,
         3.0
        ],
        [
         "K-5037 Levanger - Levangke",
         "Kvinner",
         "0 år",
         114.0,
         81.0,
         84.0,
         91.0
        ],
        [
         "K-5038 Verdal",
         "Kvinner",
         "0 år",
         59.0,
         65.0,
         78.0,
         63.0
        ],
        [
         "K-5041 Snåase - Snåsa",
         "Kvinner",
         "0 år",
         18.0,
         10.0,
         11.0,
         15.0
        ],
        [
         "K-5042 Lierne",
         "Kvinner",
         "0 år",
         3.0,
         1.0,
         3.0,
         3.0
        ],
        [
         "K-5043 Raarvihke - Røyrvik",
         "Kvinner",
         "0 år",
         1.0,
         0.0,
         2.0,
         1.0
        ],
        [
         "K-5044 Namsskogan",
         "Kvinner",
         "0 år",
         2.0,
         1.0,
         3.0,
         1.0
        ],
        [
         "K-5045 Grong",
         "Kvinner",
         "0 år",
         13.0,
         10.0,
         8.0,
         9.0
        ],
        [
         "K-5046 Høylandet",
         "Kvinner",
         "0 år",
         3.0,
         3.0,
         2.0,
         5.0
        ],
        [
         "K-5047 Overhalla",
         "Kvinner",
         "0 år",
         19.0,
         14.0,
         22.0,
         13.0
        ],
        [
         "K-5049 Flatanger",
         "Kvinner",
         "0 år",
         10.0,
         4.0,
         7.0,
         6.0
        ],
        [
         "K-5052 Leka",
         "Kvinner",
         "0 år",
         2.0,
         1.0,
         4.0,
         3.0
        ],
        [
         "K-5053 Inderøy",
         "Kvinner",
         "0 år",
         24.0,
         29.0,
         34.0,
         29.0
        ],
        [
         "K-5054 Indre Fosen",
         "Kvinner",
         "0 år",
         30.0,
         43.0,
         29.0,
         37.0
        ],
        [
         "K-5055 Heim",
         "Kvinner",
         "0 år",
         28.0,
         25.0,
         19.0,
         21.0
        ],
        [
         "K-5056 Hitra",
         "Kvinner",
         "0 år",
         35.0,
         28.0,
         27.0,
         29.0
        ],
        [
         "K-5057 Ørland",
         "Kvinner",
         "0 år",
         51.0,
         63.0,
         51.0,
         39.0
        ],
        [
         "K-5058 Åfjord",
         "Kvinner",
         "0 år",
         16.0,
         19.0,
         26.0,
         21.0
        ],
        [
         "K-5059 Orkland",
         "Kvinner",
         "0 år",
         90.0,
         87.0,
         77.0,
         79.0
        ],
        [
         "K-5060 Nærøysund",
         "Kvinner",
         "0 år",
         53.0,
         53.0,
         67.0,
         45.0
        ],
        [
         "K-5061 Rindal",
         "Kvinner",
         "0 år",
         9.0,
         7.0,
         6.0,
         10.0
        ],
        [
         "K-1804 Bodø",
         "Kvinner",
         "0 år",
         278.0,
         225.0,
         267.0,
         242.0
        ],
        [
         "K-1806 Narvik",
         "Kvinner",
         "0 år",
         95.0,
         83.0,
         87.0,
         78.0
        ],
        [
         "K-1811 Bindal",
         "Kvinner",
         "0 år",
         7.0,
         7.0,
         6.0,
         3.0
        ],
        [
         "K-1812 Sømna",
         "Kvinner",
         "0 år",
         9.0,
         10.0,
         7.0,
         8.0
        ],
        [
         "K-1813 Brønnøy",
         "Kvinner",
         "0 år",
         31.0,
         35.0,
         25.0,
         37.0
        ],
        [
         "K-1815 Vega",
         "Kvinner",
         "0 år",
         6.0,
         9.0,
         6.0,
         1.0
        ],
        [
         "K-1816 Vevelstad",
         "Kvinner",
         "0 år",
         1.0,
         0.0,
         3.0,
         0.0
        ],
        [
         "K-1818 Herøy (Nordland)",
         "Kvinner",
         "0 år",
         6.0,
         7.0,
         5.0,
         10.0
        ],
        [
         "K-1820 Alstahaug",
         "Kvinner",
         "0 år",
         26.0,
         27.0,
         26.0,
         21.0
        ],
        [
         "K-1822 Leirfjord",
         "Kvinner",
         "0 år",
         12.0,
         14.0,
         15.0,
         10.0
        ],
        [
         "K-1824 Vefsn",
         "Kvinner",
         "0 år",
         57.0,
         61.0,
         65.0,
         57.0
        ],
        [
         "K-1825 Grane",
         "Kvinner",
         "0 år",
         6.0,
         7.0,
         3.0,
         4.0
        ],
        [
         "K-1826 Aarborte - Hattfjelldal",
         "Kvinner",
         "0 år",
         9.0,
         6.0,
         7.0,
         8.0
        ],
        [
         "K-1827 Dønna",
         "Kvinner",
         "0 år",
         9.0,
         4.0,
         6.0,
         5.0
        ],
        [
         "K-1828 Nesna",
         "Kvinner",
         "0 år",
         12.0,
         5.0,
         3.0,
         2.0
        ],
        [
         "K-1832 Hemnes",
         "Kvinner",
         "0 år",
         28.0,
         15.0,
         17.0,
         20.0
        ],
        [
         "K-1833 Rana - Raane",
         "Kvinner",
         "0 år",
         128.0,
         101.0,
         131.0,
         113.0
        ],
        [
         "K-1834 Lurøy",
         "Kvinner",
         "0 år",
         8.0,
         6.0,
         11.0,
         6.0
        ],
        [
         "K-1835 Træna",
         "Kvinner",
         "0 år",
         3.0,
         0.0,
         3.0,
         0.0
        ],
        [
         "K-1836 Rødøy",
         "Kvinner",
         "0 år",
         2.0,
         4.0,
         5.0,
         2.0
        ],
        [
         "K-1837 Meløy",
         "Kvinner",
         "0 år",
         18.0,
         19.0,
         29.0,
         17.0
        ],
        [
         "K-1838 Gildeskål",
         "Kvinner",
         "0 år",
         7.0,
         4.0,
         5.0,
         7.0
        ],
        [
         "K-1839 Beiarn",
         "Kvinner",
         "0 år",
         4.0,
         1.0,
         4.0,
         3.0
        ],
        [
         "K-1840 Saltdal",
         "Kvinner",
         "0 år",
         13.0,
         18.0,
         12.0,
         10.0
        ],
        [
         "K-1841 Fauske - Fuossko",
         "Kvinner",
         "0 år",
         44.0,
         40.0,
         43.0,
         38.0
        ],
        [
         "K-1845 Sørfold - Fuolldá",
         "Kvinner",
         "0 år",
         7.0,
         5.0,
         6.0,
         4.0
        ],
        [
         "K-1848 Steigen",
         "Kvinner",
         "0 år",
         13.0,
         14.0,
         12.0,
         12.0
        ],
        [
         "K-1851 Lødingen",
         "Kvinner",
         "0 år",
         6.0,
         4.0,
         3.0,
         4.0
        ],
        [
         "K-1853 Evenes - Evenássi",
         "Kvinner",
         "0 år",
         5.0,
         2.0,
         2.0,
         5.0
        ],
        [
         "K-1856 Røst",
         "Kvinner",
         "0 år",
         2.0,
         2.0,
         0.0,
         2.0
        ],
        [
         "K-1857 Værøy",
         "Kvinner",
         "0 år",
         3.0,
         1.0,
         5.0,
         0.0
        ],
        [
         "K-1859 Flakstad",
         "Kvinner",
         "0 år",
         6.0,
         5.0,
         5.0,
         4.0
        ],
        [
         "K-1860 Vestvågøy",
         "Kvinner",
         "0 år",
         70.0,
         48.0,
         63.0,
         62.0
        ],
        [
         "K-1865 Vågan",
         "Kvinner",
         "0 år",
         43.0,
         40.0,
         28.0,
         44.0
        ],
        [
         "K-1866 Hadsel",
         "Kvinner",
         "0 år",
         38.0,
         40.0,
         39.0,
         31.0
        ],
        [
         "K-1867 Bø",
         "Kvinner",
         "0 år",
         9.0,
         6.0,
         10.0,
         8.0
        ],
        [
         "K-1868 Øksnes",
         "Kvinner",
         "0 år",
         12.0,
         17.0,
         15.0,
         16.0
        ],
        [
         "K-1870 Sortland - Suortá",
         "Kvinner",
         "0 år",
         47.0,
         39.0,
         42.0,
         54.0
        ],
        [
         "K-1871 Andøy",
         "Kvinner",
         "0 år",
         22.0,
         19.0,
         18.0,
         15.0
        ],
        [
         "K-1874 Moskenes",
         "Kvinner",
         "0 år",
         3.0,
         3.0,
         4.0,
         0.0
        ],
        [
         "K-1875 Hábmer - Hamarøy",
         "Kvinner",
         "0 år",
         15.0,
         9.0,
         15.0,
         9.0
        ],
        [
         "K-5501 Tromsø",
         "Kvinner",
         "0 år",
         454.0,
         373.0,
         404.0,
         379.0
        ],
        [
         "K-5503 Harstad - Hárstták",
         "Kvinner",
         "0 år",
         129.0,
         111.0,
         108.0,
         94.0
        ],
        [
         "K-5510 Kvæfjord",
         "Kvinner",
         "0 år",
         14.0,
         10.0,
         8.0,
         14.0
        ],
        [
         "K-5512 Dielddanuorri - Tjeldsund",
         "Kvinner",
         "0 år",
         21.0,
         14.0,
         19.0,
         13.0
        ],
        [
         "K-5514 Ibestad",
         "Kvinner",
         "0 år",
         2.0,
         6.0,
         2.0,
         4.0
        ],
        [
         "K-5516 Gratangen - Rivtták",
         "Kvinner",
         "0 år",
         3.0,
         2.0,
         1.0,
         4.0
        ],
        [
         "K-5518 Loabák - Lavangen",
         "Kvinner",
         "0 år",
         2.0,
         5.0,
         3.0,
         4.0
        ],
        [
         "K-5520 Bardu",
         "Kvinner",
         "0 år",
         15.0,
         14.0,
         14.0,
         15.0
        ],
        [
         "K-5522 Salangen",
         "Kvinner",
         "0 år",
         10.0,
         5.0,
         11.0,
         11.0
        ],
        [
         "K-5524 Målselv",
         "Kvinner",
         "0 år",
         37.0,
         27.0,
         28.0,
         32.0
        ],
        [
         "K-5526 Sørreisa",
         "Kvinner",
         "0 år",
         10.0,
         7.0,
         23.0,
         19.0
        ],
        [
         "K-5528 Dyrøy",
         "Kvinner",
         "0 år",
         2.0,
         3.0,
         7.0,
         2.0
        ],
        [
         "K-5530 Senja",
         "Kvinner",
         "0 år",
         77.0,
         79.0,
         46.0,
         62.0
        ],
        [
         "K-5532 Balsfjord",
         "Kvinner",
         "0 år",
         35.0,
         15.0,
         22.0,
         23.0
        ],
        [
         "K-5534 Karlsøy",
         "Kvinner",
         "0 år",
         7.0,
         9.0,
         8.0,
         2.0
        ],
        [
         "K-5536 Lyngen",
         "Kvinner",
         "0 år",
         3.0,
         5.0,
         8.0,
         10.0
        ],
        [
         "K-5538 Storfjord - Omasvuotna - Omasvuono",
         "Kvinner",
         "0 år",
         3.0,
         6.0,
         3.0,
         7.0
        ],
        [
         "K-5540 Gáivuotna - Kåfjord - Kaivuono",
         "Kvinner",
         "0 år",
         6.0,
         5.0,
         8.0,
         2.0
        ],
        [
         "K-5542 Skjervøy",
         "Kvinner",
         "0 år",
         14.0,
         7.0,
         5.0,
         13.0
        ],
        [
         "K-5544 Nordreisa - Ráisa - Raisi",
         "Kvinner",
         "0 år",
         17.0,
         25.0,
         20.0,
         14.0
        ],
        [
         "K-5546 Kvænangen",
         "Kvinner",
         "0 år",
         4.0,
         5.0,
         1.0,
         1.0
        ],
        [
         "K-5601 Alta",
         "Kvinner",
         "0 år",
         124.0,
         112.0,
         120.0,
         141.0
        ],
        [
         "K-5603 Hammerfest - Hámmerfeasta",
         "Kvinner",
         "0 år",
         39.0,
         55.0,
         46.0,
         52.0
        ],
        [
         "K-5605 Sør-Varanger",
         "Kvinner",
         "0 år",
         45.0,
         42.0,
         50.0,
         42.0
        ],
        [
         "K-5607 Vadsø",
         "Kvinner",
         "0 år",
         26.0,
         27.0,
         35.0,
         23.0
        ],
        [
         "K-5610 Kárásjohka - Karasjok",
         "Kvinner",
         "0 år",
         10.0,
         13.0,
         10.0,
         12.0
        ],
        [
         "K-5612 Guovdageaidnu - Kautokeino",
         "Kvinner",
         "0 år",
         12.0,
         8.0,
         19.0,
         7.0
        ],
        [
         "K-5614 Loppa",
         "Kvinner",
         "0 år",
         4.0,
         1.0,
         6.0,
         3.0
        ],
        [
         "K-5616 Hasvik",
         "Kvinner",
         "0 år",
         3.0,
         1.0,
         2.0,
         4.0
        ],
        [
         "K-5618 Måsøy",
         "Kvinner",
         "0 år",
         2.0,
         1.0,
         3.0,
         2.0
        ],
        [
         "K-5620 Nordkapp",
         "Kvinner",
         "0 år",
         14.0,
         7.0,
         10.0,
         11.0
        ],
        [
         "K-5622 Porsanger - Porsángu - Porsanki",
         "Kvinner",
         "0 år",
         20.0,
         7.0,
         13.0,
         16.0
        ],
        [
         "K-5624 Lebesby",
         "Kvinner",
         "0 år",
         6.0,
         4.0,
         4.0,
         0.0
        ],
        [
         "K-5626 Gamvik",
         "Kvinner",
         "0 år",
         4.0,
         3.0,
         2.0,
         4.0
        ],
        [
         "K-5628 Deatnu - Tana",
         "Kvinner",
         "0 år",
         15.0,
         11.0,
         15.0,
         8.0
        ],
        [
         "K-5630 Berlevåg",
         "Kvinner",
         "0 år",
         4.0,
         2.0,
         3.0,
         4.0
        ],
        [
         "K-5632 Båtsfjord",
         "Kvinner",
         "0 år",
         12.0,
         8.0,
         9.0,
         10.0
        ],
        [
         "K-5634 Vardø",
         "Kvinner",
         "0 år",
         8.0,
         6.0,
         8.0,
         5.0
        ],
        [
         "K-5636 Unjárga - Nesseby",
         "Kvinner",
         "0 år",
         2.0,
         4.0,
         2.0,
         3.0
        ],
        [
         "K-21-22 Svalbard og Jan Mayen",
         "Kvinner",
         "0 år",
         0.0,
         0.0,
         0.0,
         0.0
        ],
        [
         "K-23 Kontinentalsokkelen",
         "Kvinner",
         "0 år",
         0.0,
         0.0,
         0.0,
         0.0
        ],
        [
         "K-Rest Delte kommuner og uoppgitt",
         "Kvinner",
         "0 år",
         0.0,
         0.0,
         0.0,
         0.0
        ],
        [
         "region:",
         null,
         null,
         null,
         null,
         null,
         null
        ],
        [
         "<a href='https://www.ssb.no/offentlig-sektor/kommunekatalog/endringer-i-de-regionale-inndelingene' target='footnote'><b>Se liste over endringer i de regionale inndelingene.</b></a> <br><br>\n<a href='https://www.ssb.no/statbank/hvordan-bruke-statistikkbanken/statistikkbanktabeller-med-sammenslatte-tidsserier' target='footnote'>Tabeller som bruker ny regioninndeling også for årene før 2024.</a>",
         null,
         null,
         null,
         null,
         null,
         null
        ],
        [
         "region:",
         null,
         null,
         null,
         null,
         null,
         null
        ],
        [
         "Lillestrøm:",
         null,
         null,
         null,
         null,
         null,
         null
        ],
        [
         "Før 2020 er tall for grunnkrets Rånåsfoss og deler av Hellesjø regnet med under K-3205 Lillestrøm. Fra 2020 er områdene regnet med under K-3228 Nes.",
         null,
         null,
         null,
         null,
         null,
         null
        ],
        [
         "region:",
         null,
         null,
         null,
         null,
         null,
         null
        ],
        [
         "Nordre Follo:",
         null,
         null,
         null,
         null,
         null,
         null
        ],
        [
         "Før 2020 er tall for Tandbergløkka (del av grunnkrets Østensjø) regnet med under K-3218 Ås. Fra 2020 er området regnet med under K-3207 Nordre Follo.",
         null,
         null,
         null,
         null,
         null,
         null
        ],
        [
         "region:",
         null,
         null,
         null,
         null,
         null,
         null
        ],
        [
         "Ås:",
         null,
         null,
         null,
         null,
         null,
         null
        ],
        [
         "Før 2020 er tall for Tandbergløkka (del av grunnkrets Østensjø) regnet med under K-3218 Ås. Fra 2020 er området regnet med under K-3207 Nordre Follo.",
         null,
         null,
         null,
         null,
         null,
         null
        ],
        [
         "region:",
         null,
         null,
         null,
         null,
         null,
         null
        ],
        [
         "Nes:",
         null,
         null,
         null,
         null,
         null,
         null
        ],
        [
         "Før 2020 er tall for grunnkrets Rånåsfoss og deler av Hellesjø regnet med under K-3205 Lillestrøm. Fra 2020 er områdene regnet med under K-3228 Nes.",
         null,
         null,
         null,
         null,
         null,
         null
        ],
        [
         "region:",
         null,
         null,
         null,
         null,
         null,
         null
        ],
        [
         "Horten:",
         null,
         null,
         null,
         null,
         null,
         null
        ],
        [
         "Før 2020 er tall for Pauliveien og Skoppum regnet med under K-3905 Tønsberg. Fra 2020 er områdene regnet med under K-3901 Horten. Før 2020 er tall for Haugan regnet med under K-3901 Horten. Fra 2020 er området regnet med under K-3905 Tønsberg.",
         null,
         null,
         null,
         null,
         null,
         null
        ],
        [
         "region:",
         null,
         null,
         null,
         null,
         null,
         null
        ],
        [
         "Holmestrand:",
         null,
         null,
         null,
         null,
         null,
         null
        ],
        [
         "Før 2020 er tall for grunnkrets Mulvika regnet med under K-3905 Tønsberg. Fra 2020 er grunnkretsen regnet med under K-3903 Holmestrand.",
         null,
         null,
         null,
         null,
         null,
         null
        ],
        [
         "region:",
         null,
         null,
         null,
         null,
         null,
         null
        ],
        [
         "Tønsberg:",
         null,
         null,
         null,
         null,
         null,
         null
        ],
        [
         "Før 2020 er tall for Pauliveien og Skoppum regnet med under K-3905 Tønsberg. Fra 2020 er områdene regnet med under K-3901 Horten. Før 2020 er tall for Haugan regnet med under K-3901 Horten. Fra 2020 er området regnet med under K-3905 Tønsberg.",
         null,
         null,
         null,
         null,
         null,
         null
        ],
        [
         "region:",
         null,
         null,
         null,
         null,
         null,
         null
        ],
        [
         "Tønsberg:",
         null,
         null,
         null,
         null,
         null,
         null
        ],
        [
         "Før 2020 er tall for grunnkrets Mulvika regnet med under K-3905 Tønsberg. Fra 2020 er grunnkretsen regnet med under K-3903 Holmestrand.",
         null,
         null,
         null,
         null,
         null,
         null
        ],
        [
         "region:",
         null,
         null,
         null,
         null,
         null,
         null
        ],
        [
         "Notodden:",
         null,
         null,
         null,
         null,
         null,
         null
        ],
        [
         "Før 2020 er tall for grunnkretsene Andgard og Hjuksebø regnet med under K-4020 Midt-Telemark. Fra 2020 er grunnkretsene regnet med under K-4005 Notodden.",
         null,
         null,
         null,
         null,
         null,
         null
        ],
        [
         "region:",
         null,
         null,
         null,
         null,
         null,
         null
        ],
        [
         "Midt-Telemark:",
         null,
         null,
         null,
         null,
         null,
         null
        ],
        [
         "Før 2020 er tall for grunnkretsene Andgard og Hjuksebø regnet med under K-4020 Midt-Telemark. Fra 2020 er grunnkretsene regnet med under K-4005 Notodden.",
         null,
         null,
         null,
         null,
         null,
         null
        ],
        [
         "region:",
         null,
         null,
         null,
         null,
         null,
         null
        ],
        [
         "Stavanger:",
         null,
         null,
         null,
         null,
         null,
         null
        ],
        [
         "Hele tidsserien er beregnet ut fra kommunegrensene fra 2020. De tidligere kommunene Finnøy og Rennesøy er dermed medregnet før 2020. <br> Før 2020 er tall for grunnkrets Vestersjø regnet med under K-1133 Hjelmeland. Fra 2020 tilhører grunnkretsen 1103 Stavanger.",
         null,
         null,
         null,
         null,
         null,
         null
        ],
        [
         "region:",
         null,
         null,
         null,
         null,
         null,
         null
        ],
        [
         "Sandnes:",
         null,
         null,
         null,
         null,
         null,
         null
        ],
        [
         "Før 2020 er tall for grunnkrets Kolabygda og deler av Sognesand og Forsand regnet med under K-1108 Sandnes. Fra 2020 tilhører områdene 1130 Strand.",
         null,
         null,
         null,
         null,
         null,
         null
        ],
        [
         "region:",
         null,
         null,
         null,
         null,
         null,
         null
        ],
        [
         "Strand:",
         null,
         null,
         null,
         null,
         null,
         null
        ],
        [
         "Før 2020 er tall for grunnkrets Kolabygda og deler av Sognesand og Forsand regnet med under K-1108 Sandnes. Fra 2020 tilhører områdene 1130 Strand.",
         null,
         null,
         null,
         null,
         null,
         null
        ],
        [
         "region:",
         null,
         null,
         null,
         null,
         null,
         null
        ],
        [
         "Hjelmeland:",
         null,
         null,
         null,
         null,
         null,
         null
        ],
        [
         "Hele tidsserien er beregnet ut fra kommunegrensene fra 2020. De tidligere kommunene Finnøy og Rennesøy er dermed medregnet før 2020. <br> Før 2020 er tall for grunnkrets Vestersjø regnet med under K-1133 Hjelmeland. Fra 2020 tilhører grunnkretsen 1103 Stavanger.",
         null,
         null,
         null,
         null,
         null,
         null
        ],
        [
         "region:",
         null,
         null,
         null,
         null,
         null,
         null
        ],
        [
         "Kinn:",
         null,
         null,
         null,
         null,
         null,
         null
        ],
        [
         "Før 2020 er tall for grunnkretsene Totland, Bryggja og Maurstad regnet med under K-4602 Kinn. Fra 2020 tilhører grunnkretsene 4649 Stad.",
         null,
         null,
         null,
         null,
         null,
         null
        ],
        [
         "region:",
         null,
         null,
         null,
         null,
         null,
         null
        ],
        [
         "Ullensvang:",
         null,
         null,
         null,
         null,
         null,
         null
        ],
        [
         "Før 2020 er tall for grunnkretsene Djønno og Tjoflot regnet med under K-4618 Ullensvang. Fra 2020 tilhører grunnkretsene 4621 Voss.",
         null,
         null,
         null,
         null,
         null,
         null
        ],
        [
         "region:",
         null,
         null,
         null,
         null,
         null,
         null
        ],
        [
         "Voss:",
         null,
         null,
         null,
         null,
         null,
         null
        ],
        [
         "Før 2020 er tall for grunnkretsene Djønno og Tjoflot regnet med under K-4618 Ullensvang. Fra 2020 tilhører grunnkretsene 4621 Voss.",
         null,
         null,
         null,
         null,
         null,
         null
        ],
        [
         "region:",
         null,
         null,
         null,
         null,
         null,
         null
        ],
        [
         "Høyanger:",
         null,
         null,
         null,
         null,
         null,
         null
        ],
        [
         "Før 2020 er tall for grunnkrets Nessane regnet med under K-4640 Sogndal. Fra 2020 tilhører grunnkretsen 4638 Høyanger.",
         null,
         null,
         null,
         null,
         null,
         null
        ],
        [
         "region:",
         null,
         null,
         null,
         null,
         null,
         null
        ],
        [
         "Sogndal:",
         null,
         null,
         null,
         null,
         null,
         null
        ],
        [
         "Før 2020 er tall for grunnkrets Nessane regnet med under K-4640 Sogndal. Fra 2020 tilhører grunnkretsen 4638 Høyanger.",
         null,
         null,
         null,
         null,
         null,
         null
        ],
        [
         "region:",
         null,
         null,
         null,
         null,
         null,
         null
        ],
        [
         "Stad:",
         null,
         null,
         null,
         null,
         null,
         null
        ],
        [
         "Før 2020 er tall for grunnkretsene Totland, Bryggja og Maurstad regnet med under K-4602 Kinn. Fra 2020 tilhører grunnkretsene 4649 Stad.",
         null,
         null,
         null,
         null,
         null,
         null
        ],
        [
         "region:",
         null,
         null,
         null,
         null,
         null,
         null
        ],
        [
         "Ålesund:",
         null,
         null,
         null,
         null,
         null,
         null
        ],
        [
         "Før 2020 er tall for grunnkrets Orten regnet med under K-1508 Ålesund. Fra 2020 er grunnkretsen regnet med under K-1547 Aukra.",
         null,
         null,
         null,
         null,
         null,
         null
        ],
        [
         "region:",
         null,
         null,
         null,
         null,
         null,
         null
        ],
        [
         "Ålesund:",
         null,
         null,
         null,
         null,
         null,
         null
        ],
        [
         "I årene 2020-2023 var Haram en del av Ålesund.",
         null,
         null,
         null,
         null,
         null,
         null
        ],
        [
         "region:",
         null,
         null,
         null,
         null,
         null,
         null
        ],
        [
         "Ørsta:",
         null,
         null,
         null,
         null,
         null,
         null
        ],
        [
         "Før 2020 er tall for grunnkretsene Bjørke og Viddalen regnet med under K-1520 Ørsta. Fra 2020 tilhører grunnkretsene 1577 Volda.",
         null,
         null,
         null,
         null,
         null,
         null
        ],
        [
         "region:",
         null,
         null,
         null,
         null,
         null,
         null
        ],
        [
         "Aukra:",
         null,
         null,
         null,
         null,
         null,
         null
        ],
        [
         "Før 2020 er tall for grunnkrets Orten regnet med under K-1508 Ålesund. Fra 2020 er grunnkretsen regnet med under K-1547 Aukra.",
         null,
         null,
         null,
         null,
         null,
         null
        ],
        [
         "region:",
         null,
         null,
         null,
         null,
         null,
         null
        ],
        [
         "Volda:",
         null,
         null,
         null,
         null,
         null,
         null
        ],
        [
         "Før 2020 er tall for grunnkretsene Bjørke og Viddalen regnet med under K-1520 Ørsta. Fra 2020 tilhører grunnkretsene 1577 Volda.",
         null,
         null,
         null,
         null,
         null,
         null
        ],
        [
         "region:",
         null,
         null,
         null,
         null,
         null,
         null
        ],
        [
         "Haram:",
         null,
         null,
         null,
         null,
         null,
         null
        ],
        [
         "I årene 2020-2023 var Haram en del av Ålesund.",
         null,
         null,
         null,
         null,
         null,
         null
        ],
        [
         "region:",
         null,
         null,
         null,
         null,
         null,
         null
        ],
        [
         "Trondheim - Tråante:",
         null,
         null,
         null,
         null,
         null,
         null
        ],
        [
         "Hele tidsserien er beregnet ut fra kommunegrensene fra 2020. Den tidligere kommunen Klæbu er dermed medregnet før 2020.",
         null,
         null,
         null,
         null,
         null,
         null
        ],
        [
         "region:",
         null,
         null,
         null,
         null,
         null,
         null
        ],
        [
         "Steinkjer:",
         null,
         null,
         null,
         null,
         null,
         null
        ],
        [
         "Før 2020 er tall for grunnkrets Verrabotn regnet med under K-5006 Steinkjer. Fra 2020 tilhører grunnkretsen 5054 Indre Fosen.",
         null,
         null,
         null,
         null,
         null,
         null
        ],
        [
         "region:",
         null,
         null,
         null,
         null,
         null,
         null
        ],
        [
         "Namsos - Nåavmesjenjaelmie:",
         null,
         null,
         null,
         null,
         null,
         null
        ],
        [
         "Før 2020 er tall for grunnkrets Lund regnet med under K-5060 Nærøysund. Fra 2020 tilhører grunnkretsen 5007 Namsos.",
         null,
         null,
         null,
         null,
         null,
         null
        ],
        [
         "region:",
         null,
         null,
         null,
         null,
         null,
         null
        ],
        [
         "Indre Fosen:",
         null,
         null,
         null,
         null,
         null,
         null
        ],
        [
         "Før 2020 er tall for grunnkrets Verrabotn regnet med under K-5006 Steinkjer. Fra 2020 tilhører grunnkretsen 5054 Indre Fosen.",
         null,
         null,
         null,
         null,
         null,
         null
        ],
        [
         "region:",
         null,
         null,
         null,
         null,
         null,
         null
        ],
        [
         "Heim:",
         null,
         null,
         null,
         null,
         null,
         null
        ],
        [
         "5012 Snillfjord ble 1.1.2020 delt mellom de nye kommunene 5055 Heim, 5056 Hitra og 5059 Orkland. Denne tabellen viser ikke historiske tall for disse nye kommunene. Tall for 5012 Snillfjord før 2020 finnes under valget 'Alle kommuner'.",
         null,
         null,
         null,
         null,
         null,
         null
        ],
        [
         "region:",
         null,
         null,
         null,
         null,
         null,
         null
        ],
        [
         "Hitra:",
         null,
         null,
         null,
         null,
         null,
         null
        ],
        [
         "5012 Snillfjord ble 1.1.2020 delt mellom de nye kommunene 5055 Heim, 5056 Hitra og 5059 Orkland. Denne tabellen viser ikke historiske tall for disse nye kommunene. Tall for 5012 Snillfjord før 2020 finnes under valget 'Alle kommuner'.",
         null,
         null,
         null,
         null,
         null,
         null
        ],
        [
         "region:",
         null,
         null,
         null,
         null,
         null,
         null
        ],
        [
         "Orkland:",
         null,
         null,
         null,
         null,
         null,
         null
        ],
        [
         "5012 Snillfjord ble 1.1.2020 delt mellom de nye kommunene 5055 Heim, 5056 Hitra og 5059 Orkland. Denne tabellen viser ikke historiske tall for disse nye kommunene. Tall for 5012 Snillfjord før 2020 finnes under valget 'Alle kommuner'.",
         null,
         null,
         null,
         null,
         null,
         null
        ],
        [
         "region:",
         null,
         null,
         null,
         null,
         null,
         null
        ],
        [
         "Nærøysund:",
         null,
         null,
         null,
         null,
         null,
         null
        ],
        [
         "Før 2020 er tall for grunnkrets Lund regnet med under K-5060 Nærøysund. Fra 2020 tilhører grunnkretsen 5007 Namsos.",
         null,
         null,
         null,
         null,
         null,
         null
        ],
        [
         "region:",
         null,
         null,
         null,
         null,
         null,
         null
        ],
        [
         "Narvik:",
         null,
         null,
         null,
         null,
         null,
         null
        ],
        [
         "1850 Tysfjord ble 1.1.2020 delt mellom de nye kommunene 1806 Narvik og 1875 Hamarøy. Denne tabellen viser ikke historiske tall for disse nye kommunene. Tall for 1850 Tysfjord, 1849 Hamarøy, 1854 Ballangen og 1805 Narvik før 2020 finnes under valget 'Alle kommuner'.",
         null,
         null,
         null,
         null,
         null,
         null
        ],
        [
         "region:",
         null,
         null,
         null,
         null,
         null,
         null
        ],
        [
         "Hábmer - Hamarøy:",
         null,
         null,
         null,
         null,
         null,
         null
        ],
        [
         "1850 Tysfjord ble 1.1.2020 delt mellom de nye kommunene 1806 Narvik og 1875 Hamarøy. Denne tabellen viser ikke historiske tall for disse nye kommunene. Tall for 1850 Tysfjord, 1849 Hamarøy, 1854 Ballangen og 1805 Narvik før 2020 finnes under valget 'Alle kommuner'.",
         null,
         null,
         null,
         null,
         null,
         null
        ],
        [
         "region:",
         null,
         null,
         null,
         null,
         null,
         null
        ],
        [
         "Delte kommuner og uoppgitt:",
         null,
         null,
         null,
         null,
         null,
         null
        ],
        [
         "Her inngår kommuner som er blitt splittet, og som derfor kan ikke summeres opp til en av de nåværende kommunene. Bruk knappen 'Velg verdier fra gruppe' om du ønsker å se tall for hver av de delte kommunene.",
         null,
         null,
         null,
         null,
         null,
         null
        ],
        [
         "Sist endret:",
         null,
         null,
         null,
         null,
         null,
         null
        ],
        [
         "Personer:",
         null,
         null,
         null,
         null,
         null,
         null
        ],
        [
         "20250225 08:00",
         null,
         null,
         null,
         null,
         null,
         null
        ],
        [
         "Kilde:",
         null,
         null,
         null,
         null,
         null,
         null
        ],
        [
         "Statistisk sentralbyrå",
         null,
         null,
         null,
         null,
         null,
         null
        ],
        [
         "Kontakt:",
         null,
         null,
         null,
         null,
         null,
         null
        ],
        [
         "Personer:",
         null,
         null,
         null,
         null,
         null,
         null
        ],
        [
         "Magnus Haug, Statistisk sentralbyrå",
         null,
         null,
         null,
         null,
         null,
         null
        ],
        [
         " +47 40811491",
         null,
         null,
         null,
         null,
         null,
         null
        ],
        [
         "mgh@ssb.no",
         null,
         null,
         null,
         null,
         null,
         null
        ],
        [
         "Måleenhet:",
         null,
         null,
         null,
         null,
         null,
         null
        ],
        [
         "Personer:",
         null,
         null,
         null,
         null,
         null,
         null
        ],
        [
         "antall",
         null,
         null,
         null,
         null,
         null,
         null
        ],
        [
         "Målemetode:",
         null,
         null,
         null,
         null,
         null,
         null
        ],
        [
         "Personer:",
         null,
         null,
         null,
         null,
         null,
         null
        ],
        [
         "Situasjon (tidspunkt)",
         null,
         null,
         null,
         null,
         null,
         null
        ],
        [
         "Referansetid:",
         null,
         null,
         null,
         null,
         null,
         null
        ],
        [
         "Personer",
         null,
         null,
         null,
         null,
         null,
         null
        ],
        [
         "1.1.",
         null,
         null,
         null,
         null,
         null,
         null
        ],
        [
         "Offisiell statistikk",
         null,
         null,
         null,
         null,
         null,
         null
        ],
        [
         "Database:",
         null,
         null,
         null,
         null,
         null,
         null
        ],
        [
         "Ekstern PRODUKSJON",
         null,
         null,
         null,
         null,
         null,
         null
        ],
        [
         "Intern referansekode:",
         null,
         null,
         null,
         null,
         null,
         null
        ],
        [
         "Personer1",
         null,
         null,
         null,
         null,
         null,
         null
        ]
       ],
       "datasetInfos": [],
       "dbfsResultPath": null,
       "isJsonSchema": true,
       "metadata": {},
       "overflow": false,
       "plotOptions": {
        "customPlotOptions": {},
        "displayType": "table",
        "pivotAggregation": null,
        "pivotColumns": null,
        "xColumns": null,
        "yColumns": null
       },
       "removedWidgets": [],
       "schema": [
        {
         "metadata": "{}",
         "name": "Kommune",
         "type": "\"string\""
        },
        {
         "metadata": "{}",
         "name": "Kjønn",
         "type": "\"string\""
        },
        {
         "metadata": "{}",
         "name": "Alder",
         "type": "\"string\""
        },
        {
         "metadata": "{}",
         "name": "2022",
         "type": "\"double\""
        },
        {
         "metadata": "{}",
         "name": "2023",
         "type": "\"double\""
        },
        {
         "metadata": "{}",
         "name": "2024",
         "type": "\"double\""
        },
        {
         "metadata": "{}",
         "name": "2025",
         "type": "\"double\""
        }
       ],
       "type": "table"
      }
     },
     "output_type": "display_data"
    }
   ],
   "source": [
    "# Installer Excel-støtte\n",
    "%pip install openpyxl\n",
    "\n",
    "import pandas as pd\n",
    "import io\n",
    "\n",
    "# Les Excel direkte fra Workspace-opplastet bytes (hvis tilgjengelig)\n",
    "workspace_path = \"/Workspace/Users/sushant.nmbu@gmail.com/befolkning.xlsx\"\n",
    "\n",
    "# Åpne Excel-filen som bytes\n",
    "with open(workspace_path, \"rb\") as f:\n",
    "    bytes_data = f.read()\n",
    "\n",
    "# Hopp over topp-rader med metadata (3 første rader)\n",
    "pdf = pd.read_excel(io.BytesIO(bytes_data), skiprows=3)\n",
    "\n",
    "# Fjern rader uten kommuneinfo\n",
    "pdf = pdf[pdf.iloc[:, 0].notnull()]\n",
    "\n",
    "# Hvis du ønsker å bruke den som Spark DataFrame:\n",
    "df = spark.createDataFrame(pdf)\n",
    "\n",
    "# Gi kolonnene riktige navn (basert på det du viste i bildet)\n",
    "kolonner = [\n",
    "    \"Kommune\",\n",
    "    \"Kjønn\",\n",
    "    \"Alder\",\n",
    "    \"2022\",\n",
    "    \"2023\",\n",
    "    \"2024\",\n",
    "    \"2025\"\n",
    "]\n",
    "\n",
    "# Gi nytt navn til kolonnene\n",
    "df = df.toDF(*kolonner)\n",
    "\n",
    "# Vis for kontroll\n",
    "display(df)\n",
    "\n"
   ]
  },
  {
   "cell_type": "code",
   "execution_count": 0,
   "metadata": {
    "application/vnd.databricks.v1+cell": {
     "cellMetadata": {
      "byteLimit": 2048000,
      "rowLimit": 10000
     },
     "inputWidgets": {},
     "nuid": "00922986-96cb-4a8b-805c-0fc549706038",
     "showTitle": false,
     "tableResultSettingsMap": {
      "0": {
       "dataGridStateBlob": "{\"version\":1,\"tableState\":{\"columnPinning\":{\"left\":[\"#row_number#\"],\"right\":[]},\"columnSizing\":{},\"columnVisibility\":{}},\"settings\":{\"columns\":{}},\"syncTimestamp\":1753276151069}",
       "filterBlob": null,
       "queryPlanFiltersBlob": null,
       "tableResultIndex": 0
      }
     },
     "title": ""
    }
   },
   "outputs": [
    {
     "output_type": "display_data",
     "data": {
      "text/html": [
       "<style scoped>\n",
       "  .table-result-container {\n",
       "    max-height: 300px;\n",
       "    overflow: auto;\n",
       "  }\n",
       "  table, th, td {\n",
       "    border: 1px solid black;\n",
       "    border-collapse: collapse;\n",
       "  }\n",
       "  th, td {\n",
       "    padding: 5px;\n",
       "  }\n",
       "  th {\n",
       "    text-align: left;\n",
       "  }\n",
       "</style><div class='table-result-container'><table class='table-result'><thead style='background-color: white'><tr><th>Kommune</th><th>Totalt_2025</th></tr></thead><tbody><tr><td>K-0301 Oslo</td><td>4359</td></tr><tr><td>K-4601 Bergen</td><td>1431</td></tr><tr><td>K-5001 Trondheim - Tråante</td><td>1018</td></tr><tr><td>K-1103 Stavanger</td><td>692</td></tr><tr><td>K-3201 Bærum</td><td>659</td></tr><tr><td>K-4204 Kristiansand</td><td>573</td></tr><tr><td>K-3301 Drammen</td><td>486</td></tr><tr><td>K-3205 Lillestrøm</td><td>478</td></tr><tr><td>K-1108 Sandnes</td><td>448</td></tr><tr><td>K-3203 Asker</td><td>431</td></tr></tbody></table></div>"
      ]
     },
     "metadata": {
      "application/vnd.databricks.v1+output": {
       "addedWidgets": {},
       "aggData": [],
       "aggError": "",
       "aggOverflow": false,
       "aggSchema": [],
       "aggSeriesLimitReached": false,
       "aggType": "",
       "arguments": {},
       "columnCustomDisplayInfos": {},
       "data": [
        [
         "K-0301 Oslo",
         4359
        ],
        [
         "K-4601 Bergen",
         1431
        ],
        [
         "K-5001 Trondheim - Tråante",
         1018
        ],
        [
         "K-1103 Stavanger",
         692
        ],
        [
         "K-3201 Bærum",
         659
        ],
        [
         "K-4204 Kristiansand",
         573
        ],
        [
         "K-3301 Drammen",
         486
        ],
        [
         "K-3205 Lillestrøm",
         478
        ],
        [
         "K-1108 Sandnes",
         448
        ],
        [
         "K-3203 Asker",
         431
        ]
       ],
       "datasetInfos": [],
       "dbfsResultPath": null,
       "isJsonSchema": true,
       "metadata": {},
       "overflow": false,
       "plotOptions": {
        "customPlotOptions": {},
        "displayType": "table",
        "pivotAggregation": null,
        "pivotColumns": null,
        "xColumns": null,
        "yColumns": null
       },
       "removedWidgets": [],
       "schema": [
        {
         "metadata": "{}",
         "name": "Kommune",
         "type": "\"string\""
        },
        {
         "metadata": "{}",
         "name": "Totalt_2025",
         "type": "\"long\""
        }
       ],
       "type": "table"
      }
     },
     "output_type": "display_data"
    }
   ],
   "source": [
    "from pyspark.sql.functions import sum as spark_sum\n",
    "\n",
    "# Sørg for at 2025-kolonnen er numerisk\n",
    "df = df.withColumn(\"Innbyggere_2025\", df[\"2025\"].cast(\"int\"))\n",
    "\n",
    "# Gruppér og summer innbyggertall per kommune\n",
    "top_kommuner = (\n",
    "    df.groupBy(\"Kommune\")\n",
    "    .agg(spark_sum(\"Innbyggere_2025\").alias(\"Totalt_2025\"))\n",
    "    .orderBy(\"Totalt_2025\", ascending=False)\n",
    "    .limit(10)\n",
    ")\n",
    "\n",
    "# Vis\n",
    "display(top_kommuner)\n"
   ]
  },
  {
   "cell_type": "code",
   "execution_count": 0,
   "metadata": {
    "application/vnd.databricks.v1+cell": {
     "cellMetadata": {},
     "inputWidgets": {},
     "nuid": "8c5edb15-a9cf-44f2-a13b-88b46c884924",
     "showTitle": false,
     "tableResultSettingsMap": {},
     "title": ""
    }
   },
   "outputs": [],
   "source": []
  }
 ],
 "metadata": {
  "application/vnd.databricks.v1+notebook": {
   "computePreferences": null,
   "dashboards": [],
   "environmentMetadata": {
    "base_environment": "",
    "environment_version": "2"
   },
   "inputWidgetPreferences": null,
   "language": "python",
   "notebookMetadata": {
    "pythonIndentUnit": 4
   },
   "notebookName": "befolkning_analyse",
   "widgets": {}
  },
  "language_info": {
   "name": "python"
  }
 },
 "nbformat": 4,
 "nbformat_minor": 0
}